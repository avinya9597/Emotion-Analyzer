{
 "cells": [
  {
   "cell_type": "markdown",
   "id": "21ee0c1d",
   "metadata": {},
   "source": [
    "# Pitch Class Profile"
   ]
  },
  {
   "cell_type": "code",
   "execution_count": 1,
   "id": "b0e97392",
   "metadata": {},
   "outputs": [],
   "source": [
    "#Import necessary modules\n",
    "import numpy as np\n",
    "import pandas as pd\n",
    "import librosa\n",
    "from matplotlib import pyplot as plt\n",
    "import seaborn as sns"
   ]
  },
  {
   "cell_type": "code",
   "execution_count": 2,
   "id": "8d1522f0",
   "metadata": {},
   "outputs": [],
   "source": [
    "#Load npy files\n",
    "sub = np.load('../../All_audio_sub_files.npy',allow_pickle=True)\n",
    "all_emo = np.load('../../emotion_dictionary_format.npy',allow_pickle=True)\n"
   ]
  },
  {
   "cell_type": "code",
   "execution_count": 4,
   "id": "523fa02a",
   "metadata": {},
   "outputs": [],
   "source": [
    "# Convert NumPy array to normal dictionary\n",
    "emo_dict = dict(all_emo.item())\n",
    "# print(emo_dict)"
   ]
  },
  {
   "cell_type": "code",
   "execution_count": 5,
   "id": "46f9b117",
   "metadata": {},
   "outputs": [],
   "source": [
    "suball=[]\n",
    "for i in sub:\n",
    "    suball.append(\"../../\"+i)"
   ]
  },
  {
   "cell_type": "code",
   "execution_count": 6,
   "id": "88773b12",
   "metadata": {},
   "outputs": [],
   "source": [
    "def extract_features(audio_path):\n",
    "    # Load audio file\n",
    "    y, sr = librosa.load(audio_path)\n",
    "\n",
    "    # Extract PCP features\n",
    "    pcp = librosa.feature.chroma_stft(y=y, sr=sr)\n",
    "\n",
    "    return np.mean(pcp, axis=1)  # Return the mean of PCP feature"
   ]
  },
  {
   "cell_type": "code",
   "execution_count": 7,
   "id": "e9129104",
   "metadata": {},
   "outputs": [
    {
     "name": "stderr",
     "output_type": "stream",
     "text": [
      "C:\\Users\\sreev\\AppData\\Local\\Temp\\ipykernel_24516\\686993116.py:3: UserWarning: PySoundFile failed. Trying audioread instead.\n",
      "  y, sr = librosa.load(audio_path)\n",
      "C:\\Users\\sreev\\AppData\\Local\\Packages\\PythonSoftwareFoundation.Python.3.11_qbz5n2kfra8p0\\LocalCache\\local-packages\\Python311\\site-packages\\librosa\\core\\audio.py:184: FutureWarning: librosa.core.audio.__audioread_load\n",
      "\tDeprecated as of librosa version 0.10.0.\n",
      "\tIt will be removed in librosa version 1.0.\n",
      "  y, sr_native = __audioread_load(path, offset, duration, dtype)\n"
     ]
    },
    {
     "name": "stdout",
     "output_type": "stream",
     "text": [
      "../../../IEMOCAP_full_release/Session1/sentences/wav/Ses01F_script01_3/Ses01F_script01_3_F025.pk\n",
      "../../../IEMOCAP_full_release/Session2/sentences/wav/Ses02F_impro07/Ses02F_impro07_F019.pk\n",
      "../../../IEMOCAP_full_release/Session2/sentences/wav/Ses02M_script03_2/Ses02M_script03_2_F041.pk\n",
      "../../../IEMOCAP_full_release/Session4/sentences/wav/Ses04F_impro08/Ses04F_impro08_F011.pk\n"
     ]
    }
   ],
   "source": [
    "features = []\n",
    "labels = []\n",
    "\n",
    "for filename in suball:\n",
    "    try:\n",
    "        pcp = extract_features(filename)\n",
    "        features.append(pcp)\n",
    "        label = emo_dict[filename.split('/')[-1].replace('.wav','')]\n",
    "        labels.append(label)\n",
    "    except:\n",
    "        print(filename)"
   ]
  },
  {
   "cell_type": "code",
   "execution_count": 8,
   "id": "65e5442b",
   "metadata": {},
   "outputs": [],
   "source": [
    "col = [f'PCP{i+1}' for i in range(len(features[0]))]\n",
    "df = pd.DataFrame(features, columns=col)"
   ]
  },
  {
   "cell_type": "code",
   "execution_count": 9,
   "id": "f1291d8a",
   "metadata": {},
   "outputs": [
    {
     "data": {
      "text/plain": [
       "Label\n",
       "xxx    2507\n",
       "fru    1849\n",
       "neu    1708\n",
       "ang    1103\n",
       "sad    1084\n",
       "exc    1041\n",
       "hap     595\n",
       "sur     107\n",
       "fea      40\n",
       "oth       3\n",
       "dis       2\n",
       "Name: count, dtype: int64"
      ]
     },
     "execution_count": 9,
     "metadata": {},
     "output_type": "execute_result"
    }
   ],
   "source": [
    "df['Label'] = labels\n",
    "df['Label'].value_counts()"
   ]
  },
  {
   "cell_type": "code",
   "execution_count": 10,
   "id": "80737b7a",
   "metadata": {},
   "outputs": [
    {
     "data": {
      "text/plain": [
       "Label\n",
       "ang    1103\n",
       "sad    1084\n",
       "exc    1041\n",
       "Name: count, dtype: int64"
      ]
     },
     "execution_count": 10,
     "metadata": {},
     "output_type": "execute_result"
    }
   ],
   "source": [
    "indexAge = df[ (df['Label'] == 'xxx') | (df['Label'] == 'dis') | (df['Label'] == 'hap') |(df['Label'] == 'fru') | (df['Label'] == 'neu') | (df['Label'] == 'fea') | (df['Label'] == 'sur') | (df['Label'] == 'oth')].index\n",
    "df.drop(indexAge, inplace=True)\n",
    "df['Label'].value_counts()"
   ]
  },
  {
   "cell_type": "code",
   "execution_count": 11,
   "id": "a19a47cf",
   "metadata": {},
   "outputs": [
    {
     "data": {
      "text/html": [
       "<div>\n",
       "<style scoped>\n",
       "    .dataframe tbody tr th:only-of-type {\n",
       "        vertical-align: middle;\n",
       "    }\n",
       "\n",
       "    .dataframe tbody tr th {\n",
       "        vertical-align: top;\n",
       "    }\n",
       "\n",
       "    .dataframe thead th {\n",
       "        text-align: right;\n",
       "    }\n",
       "</style>\n",
       "<table border=\"1\" class=\"dataframe\">\n",
       "  <thead>\n",
       "    <tr style=\"text-align: right;\">\n",
       "      <th></th>\n",
       "      <th>PCP1</th>\n",
       "      <th>PCP2</th>\n",
       "      <th>PCP3</th>\n",
       "      <th>PCP4</th>\n",
       "      <th>PCP5</th>\n",
       "      <th>PCP6</th>\n",
       "      <th>PCP7</th>\n",
       "      <th>PCP8</th>\n",
       "      <th>PCP9</th>\n",
       "      <th>PCP10</th>\n",
       "      <th>PCP11</th>\n",
       "      <th>PCP12</th>\n",
       "      <th>Label</th>\n",
       "    </tr>\n",
       "  </thead>\n",
       "  <tbody>\n",
       "    <tr>\n",
       "      <th>12</th>\n",
       "      <td>0.468665</td>\n",
       "      <td>0.418584</td>\n",
       "      <td>0.470229</td>\n",
       "      <td>0.402123</td>\n",
       "      <td>0.438475</td>\n",
       "      <td>0.465702</td>\n",
       "      <td>0.430603</td>\n",
       "      <td>0.472777</td>\n",
       "      <td>0.384107</td>\n",
       "      <td>0.399642</td>\n",
       "      <td>0.339348</td>\n",
       "      <td>0.520844</td>\n",
       "      <td>ang</td>\n",
       "    </tr>\n",
       "    <tr>\n",
       "      <th>27</th>\n",
       "      <td>0.463213</td>\n",
       "      <td>0.431536</td>\n",
       "      <td>0.431190</td>\n",
       "      <td>0.410230</td>\n",
       "      <td>0.384602</td>\n",
       "      <td>0.391240</td>\n",
       "      <td>0.444501</td>\n",
       "      <td>0.380445</td>\n",
       "      <td>0.379131</td>\n",
       "      <td>0.423372</td>\n",
       "      <td>0.379215</td>\n",
       "      <td>0.408315</td>\n",
       "      <td>ang</td>\n",
       "    </tr>\n",
       "    <tr>\n",
       "      <th>29</th>\n",
       "      <td>0.393176</td>\n",
       "      <td>0.394829</td>\n",
       "      <td>0.384227</td>\n",
       "      <td>0.407025</td>\n",
       "      <td>0.433312</td>\n",
       "      <td>0.394724</td>\n",
       "      <td>0.341926</td>\n",
       "      <td>0.305187</td>\n",
       "      <td>0.309041</td>\n",
       "      <td>0.324220</td>\n",
       "      <td>0.306156</td>\n",
       "      <td>0.315559</td>\n",
       "      <td>ang</td>\n",
       "    </tr>\n",
       "    <tr>\n",
       "      <th>30</th>\n",
       "      <td>0.546842</td>\n",
       "      <td>0.518859</td>\n",
       "      <td>0.569832</td>\n",
       "      <td>0.522063</td>\n",
       "      <td>0.484166</td>\n",
       "      <td>0.571499</td>\n",
       "      <td>0.470337</td>\n",
       "      <td>0.477769</td>\n",
       "      <td>0.473719</td>\n",
       "      <td>0.458764</td>\n",
       "      <td>0.482684</td>\n",
       "      <td>0.630568</td>\n",
       "      <td>sad</td>\n",
       "    </tr>\n",
       "    <tr>\n",
       "      <th>31</th>\n",
       "      <td>0.690118</td>\n",
       "      <td>0.551490</td>\n",
       "      <td>0.515464</td>\n",
       "      <td>0.597981</td>\n",
       "      <td>0.554355</td>\n",
       "      <td>0.688720</td>\n",
       "      <td>0.588746</td>\n",
       "      <td>0.407920</td>\n",
       "      <td>0.408882</td>\n",
       "      <td>0.432478</td>\n",
       "      <td>0.442955</td>\n",
       "      <td>0.572069</td>\n",
       "      <td>sad</td>\n",
       "    </tr>\n",
       "  </tbody>\n",
       "</table>\n",
       "</div>"
      ],
      "text/plain": [
       "        PCP1      PCP2      PCP3      PCP4      PCP5      PCP6      PCP7  \\\n",
       "12  0.468665  0.418584  0.470229  0.402123  0.438475  0.465702  0.430603   \n",
       "27  0.463213  0.431536  0.431190  0.410230  0.384602  0.391240  0.444501   \n",
       "29  0.393176  0.394829  0.384227  0.407025  0.433312  0.394724  0.341926   \n",
       "30  0.546842  0.518859  0.569832  0.522063  0.484166  0.571499  0.470337   \n",
       "31  0.690118  0.551490  0.515464  0.597981  0.554355  0.688720  0.588746   \n",
       "\n",
       "        PCP8      PCP9     PCP10     PCP11     PCP12 Label  \n",
       "12  0.472777  0.384107  0.399642  0.339348  0.520844   ang  \n",
       "27  0.380445  0.379131  0.423372  0.379215  0.408315   ang  \n",
       "29  0.305187  0.309041  0.324220  0.306156  0.315559   ang  \n",
       "30  0.477769  0.473719  0.458764  0.482684  0.630568   sad  \n",
       "31  0.407920  0.408882  0.432478  0.442955  0.572069   sad  "
      ]
     },
     "execution_count": 11,
     "metadata": {},
     "output_type": "execute_result"
    }
   ],
   "source": [
    "df.head()"
   ]
  },
  {
   "cell_type": "code",
   "execution_count": 12,
   "id": "4aaf48d4",
   "metadata": {},
   "outputs": [
    {
     "data": {
      "text/plain": [
       "(3228, 13)"
      ]
     },
     "execution_count": 12,
     "metadata": {},
     "output_type": "execute_result"
    }
   ],
   "source": [
    "df.shape"
   ]
  },
  {
   "cell_type": "code",
   "execution_count": 14,
   "id": "61f5cc6f",
   "metadata": {},
   "outputs": [],
   "source": [
    "df.to_csv('../../../Data/Features/PCP_Data.csv')"
   ]
  },
  {
   "cell_type": "code",
   "execution_count": null,
   "id": "df99dc1b",
   "metadata": {},
   "outputs": [],
   "source": []
  }
 ],
 "metadata": {
  "kernelspec": {
   "display_name": "Python 3 (ipykernel)",
   "language": "python",
   "name": "python3"
  },
  "language_info": {
   "codemirror_mode": {
    "name": "ipython",
    "version": 3
   },
   "file_extension": ".py",
   "mimetype": "text/x-python",
   "name": "python",
   "nbconvert_exporter": "python",
   "pygments_lexer": "ipython3",
   "version": "3.11.6"
  }
 },
 "nbformat": 4,
 "nbformat_minor": 5
}
