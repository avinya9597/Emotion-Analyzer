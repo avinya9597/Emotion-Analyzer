{
 "cells": [
  {
   "cell_type": "markdown",
   "id": "8ee21b65",
   "metadata": {},
   "source": [
    "# LCP Feature Extraction"
   ]
  },
  {
   "cell_type": "code",
   "execution_count": 13,
   "id": "e0f0d56b",
   "metadata": {},
   "outputs": [],
   "source": [
    "#Import necessary modules\n",
    "import numpy as np\n",
    "import pandas as pd\n",
    "import librosa\n",
    "from matplotlib import pyplot as plt\n",
    "import seaborn as sns"
   ]
  },
  {
   "cell_type": "code",
   "execution_count": 14,
   "id": "a8eef981",
   "metadata": {},
   "outputs": [],
   "source": [
    "#Load npy files\n",
    "sub = np.load('../../All_audio_sub_files.npy',allow_pickle=True)\n",
    "all_emo = np.load('../../emotion_dictionary_format.npy',allow_pickle=True)\n"
   ]
  },
  {
   "cell_type": "code",
   "execution_count": 15,
   "id": "bb60293d",
   "metadata": {},
   "outputs": [],
   "source": [
    "# Convert NumPy array to normal dictionary\n",
    "emo_dict = dict(all_emo.item())\n",
    "# print(emo_dict)"
   ]
  },
  {
   "cell_type": "code",
   "execution_count": 16,
   "id": "868d1202",
   "metadata": {},
   "outputs": [],
   "source": [
    "suball=[]\n",
    "for i in sub:\n",
    "    suball.append(\"../../\"+i)"
   ]
  },
  {
   "cell_type": "markdown",
   "id": "e7706ee0",
   "metadata": {},
   "source": [
    "## Experiments (Not part of analysis)"
   ]
  },
  {
   "cell_type": "code",
   "execution_count": 17,
   "id": "fb93abe0",
   "metadata": {},
   "outputs": [],
   "source": [
    "def bac(x, p):\n",
    "    # compute the biased autocorrelation for x up to lag p\n",
    "    L = len(x)\n",
    "    r = np.zeros(p+1)\n",
    "    for m in range(0, p+1):\n",
    "        for n in range(0, L-m):\n",
    "            r[m] += x[n] * x[n+m]\n",
    "        r[m] /= float(L)\n",
    "    return r"
   ]
  },
  {
   "cell_type": "code",
   "execution_count": 18,
   "id": "ce85c2d4",
   "metadata": {},
   "outputs": [],
   "source": [
    "def ld(r, p):\n",
    "    # solve the toeplitz system using the Levinson-Durbin algorithm\n",
    "    g = r[1] / r[0]\n",
    "    a = np.array([g])\n",
    "    v = (1. - g * g) * r[0];\n",
    "    for i in range(1, p):\n",
    "        g = (r[i+1] - np.dot(a, r[1:i+1])) / v\n",
    "        a = np.r_[ g,  a - g * a[i-1::-1] ]\n",
    "        v *= 1. - g*g\n",
    "    # return the coefficients of the A(z) filter\n",
    "    return np.r_[1, -a[::-1]]     "
   ]
  },
  {
   "cell_type": "code",
   "execution_count": 19,
   "id": "08ca331c",
   "metadata": {},
   "outputs": [],
   "source": [
    "def lpc(x, p):\n",
    "    # compute p LPC coefficients for a speech segment\n",
    "    return ld(bac(x, p), p)"
   ]
  },
  {
   "cell_type": "code",
   "execution_count": 20,
   "id": "66888824",
   "metadata": {},
   "outputs": [],
   "source": [
    "def plot_spec(x, Fs, max_freq=None, do_fft=True):\n",
    "    C = int(len(x) / 2)  # positive frequencies only\n",
    "    if max_freq:\n",
    "        C = int(C * max_freq / float(Fs) * 2) \n",
    "    X = np.abs(np.fft.fft(x)[0:C]) if do_fft else x[0:C]\n",
    "    N = Fs * np.arange(0, C) / len(x);\n",
    "    plt.plot(N, X)\n",
    "    return N, X"
   ]
  },
  {
   "cell_type": "code",
   "execution_count": 21,
   "id": "f572e107",
   "metadata": {},
   "outputs": [
    {
     "data": {
      "image/png": "[encoded data removed]",
      "text/plain": [
       "<Figure size 640x480 with 1 Axes>"
      ]
     },
     "metadata": {},
     "output_type": "display_data"
    }
   ],
   "source": [
    "s, Fs = librosa.load(suball[5])\n",
    "\n",
    "plot_spec(s, Fs, 8000);"
   ]
  },
  {
   "cell_type": "code",
   "execution_count": 32,
   "id": "d64b0af2",
   "metadata": {
    "scrolled": true
   },
   "outputs": [],
   "source": [
    "# plot_spec(y, Fs_y)\n",
    "# A = np.fft.fft(lpc(y, 20), len(y))\n",
    "# plot_spec(np.abs(np.divide(1.0, A)), Fs_y, do_fft=False);"
   ]
  },
  {
   "cell_type": "markdown",
   "id": "f8364cff",
   "metadata": {},
   "source": [
    "## Extract Features"
   ]
  },
  {
   "cell_type": "code",
   "execution_count": 23,
   "id": "9eac937b",
   "metadata": {},
   "outputs": [],
   "source": [
    "def extract_lpcc_features(file_path):\n",
    "    # Load audio file\n",
    "    y, sr = librosa.load(file_path)\n",
    "    \n",
    "    # Extract LPCC features\n",
    "    lpcc_features = librosa.lpc(y=y,order=10)\n",
    "\n",
    "    # Return the features\n",
    "    return lpcc_features"
   ]
  },
  {
   "cell_type": "code",
   "execution_count": 24,
   "id": "9cce31e5",
   "metadata": {
    "scrolled": true
   },
   "outputs": [
    {
     "name": "stderr",
     "output_type": "stream",
     "text": [
      "C:\\Users\\sreev\\AppData\\Local\\Temp\\ipykernel_36336\\1676844072.py:3: UserWarning: PySoundFile failed. Trying audioread instead.\n",
      "  y, sr = librosa.load(file_path)\n",
      "C:\\Users\\sreev\\AppData\\Local\\Packages\\PythonSoftwareFoundation.Python.3.11_qbz5n2kfra8p0\\LocalCache\\local-packages\\Python311\\site-packages\\librosa\\core\\audio.py:184: FutureWarning: librosa.core.audio.__audioread_load\n",
      "\tDeprecated as of librosa version 0.10.0.\n",
      "\tIt will be removed in librosa version 1.0.\n",
      "  y, sr_native = __audioread_load(path, offset, duration, dtype)\n"
     ]
    },
    {
     "name": "stdout",
     "output_type": "stream",
     "text": [
      "../../../IEMOCAP_full_release/Session1/sentences/wav/Ses01F_script01_3/Ses01F_script01_3_F025.pk\n",
      "../../../IEMOCAP_full_release/Session2/sentences/wav/Ses02F_impro07/Ses02F_impro07_F019.pk\n",
      "../../../IEMOCAP_full_release/Session2/sentences/wav/Ses02M_script03_2/Ses02M_script03_2_F041.pk\n",
      "../../../IEMOCAP_full_release/Session4/sentences/wav/Ses04F_impro08/Ses04F_impro08_F011.pk\n"
     ]
    }
   ],
   "source": [
    "lcppfeatures = []\n",
    "lcpplabels = []\n",
    "\n",
    "for filename in suball:\n",
    "    try:\n",
    "        lcpp = extract_lpcc_features(filename)\n",
    "        lcppfeatures.append(lcpp)\n",
    "        lcpplabel = emo_dict[filename.split('/')[-1].replace('.wav','')]\n",
    "        lcpplabels.append(lcpplabel)\n",
    "    except:\n",
    "        print(filename)"
   ]
  },
  {
   "cell_type": "markdown",
   "id": "7b489ed0",
   "metadata": {},
   "source": [
    "## Create Dataframe"
   ]
  },
  {
   "cell_type": "code",
   "execution_count": 25,
   "id": "fabfed3f",
   "metadata": {},
   "outputs": [],
   "source": [
    "cole = [f'LCP{i+1}' for i in range(len(lcppfeatures[0]))]\n",
    "df_lcpp = pd.DataFrame(lcppfeatures, columns=cole)"
   ]
  },
  {
   "cell_type": "code",
   "execution_count": 26,
   "id": "7c7b87e8",
   "metadata": {},
   "outputs": [],
   "source": [
    "df_lcpp['Label'] = lcpplabels"
   ]
  },
  {
   "cell_type": "code",
   "execution_count": 27,
   "id": "f55a9a4f",
   "metadata": {},
   "outputs": [
    {
     "data": {
      "text/plain": [
       "Label\n",
       "ang    1103\n",
       "sad    1084\n",
       "exc    1041\n",
       "Name: count, dtype: int64"
      ]
     },
     "execution_count": 27,
     "metadata": {},
     "output_type": "execute_result"
    }
   ],
   "source": [
    "indexAge = df_lcpp[ (df_lcpp['Label'] == 'xxx') | (df_lcpp['Label'] == 'dis') | (df_lcpp['Label'] == 'hap') |(df_lcpp['Label'] == 'fru') | (df_lcpp['Label'] == 'neu') | (df_lcpp['Label'] == 'fea') | (df_lcpp['Label'] == 'sur') | (df_lcpp['Label'] == 'oth')].index\n",
    "df_lcpp.drop(indexAge, inplace=True)\n",
    "df_lcpp['Label'].value_counts()"
   ]
  },
  {
   "cell_type": "code",
   "execution_count": 28,
   "id": "9f8f0a78",
   "metadata": {},
   "outputs": [
    {
     "data": {
      "text/html": [
       "<div>\n",
       "<style scoped>\n",
       "    .dataframe tbody tr th:only-of-type {\n",
       "        vertical-align: middle;\n",
       "    }\n",
       "\n",
       "    .dataframe tbody tr th {\n",
       "        vertical-align: top;\n",
       "    }\n",
       "\n",
       "    .dataframe thead th {\n",
       "        text-align: right;\n",
       "    }\n",
       "</style>\n",
       "<table border=\"1\" class=\"dataframe\">\n",
       "  <thead>\n",
       "    <tr style=\"text-align: right;\">\n",
       "      <th></th>\n",
       "      <th>LCP1</th>\n",
       "      <th>LCP2</th>\n",
       "      <th>LCP3</th>\n",
       "      <th>LCP4</th>\n",
       "      <th>LCP5</th>\n",
       "      <th>LCP6</th>\n",
       "      <th>LCP7</th>\n",
       "      <th>LCP8</th>\n",
       "      <th>LCP9</th>\n",
       "      <th>LCP10</th>\n",
       "      <th>LCP11</th>\n",
       "      <th>Label</th>\n",
       "    </tr>\n",
       "  </thead>\n",
       "  <tbody>\n",
       "    <tr>\n",
       "      <th>12</th>\n",
       "      <td>1.0</td>\n",
       "      <td>-4.620619</td>\n",
       "      <td>11.216498</td>\n",
       "      <td>-18.965210</td>\n",
       "      <td>24.804852</td>\n",
       "      <td>-26.135841</td>\n",
       "      <td>22.393353</td>\n",
       "      <td>-15.348988</td>\n",
       "      <td>8.033381</td>\n",
       "      <td>-2.891480</td>\n",
       "      <td>0.543560</td>\n",
       "      <td>ang</td>\n",
       "    </tr>\n",
       "    <tr>\n",
       "      <th>27</th>\n",
       "      <td>1.0</td>\n",
       "      <td>-4.243772</td>\n",
       "      <td>9.878223</td>\n",
       "      <td>-16.549742</td>\n",
       "      <td>21.832207</td>\n",
       "      <td>-23.426395</td>\n",
       "      <td>20.516266</td>\n",
       "      <td>-14.562426</td>\n",
       "      <td>8.120422</td>\n",
       "      <td>-3.267545</td>\n",
       "      <td>0.721418</td>\n",
       "      <td>ang</td>\n",
       "    </tr>\n",
       "    <tr>\n",
       "      <th>29</th>\n",
       "      <td>1.0</td>\n",
       "      <td>-4.550903</td>\n",
       "      <td>10.997309</td>\n",
       "      <td>-18.775156</td>\n",
       "      <td>24.923088</td>\n",
       "      <td>-26.633648</td>\n",
       "      <td>23.093740</td>\n",
       "      <td>-16.064711</td>\n",
       "      <td>8.651243</td>\n",
       "      <td>-3.271798</td>\n",
       "      <td>0.654612</td>\n",
       "      <td>ang</td>\n",
       "    </tr>\n",
       "    <tr>\n",
       "      <th>30</th>\n",
       "      <td>1.0</td>\n",
       "      <td>50.537933</td>\n",
       "      <td>-286.185974</td>\n",
       "      <td>745.173340</td>\n",
       "      <td>-1258.394165</td>\n",
       "      <td>1555.833252</td>\n",
       "      <td>-1455.320068</td>\n",
       "      <td>1020.872925</td>\n",
       "      <td>-502.843231</td>\n",
       "      <td>140.464554</td>\n",
       "      <td>-10.920460</td>\n",
       "      <td>sad</td>\n",
       "    </tr>\n",
       "    <tr>\n",
       "      <th>31</th>\n",
       "      <td>1.0</td>\n",
       "      <td>125.109383</td>\n",
       "      <td>-540.966980</td>\n",
       "      <td>1161.417114</td>\n",
       "      <td>-1682.114868</td>\n",
       "      <td>1787.451538</td>\n",
       "      <td>-1398.142578</td>\n",
       "      <td>757.090576</td>\n",
       "      <td>-213.570709</td>\n",
       "      <td>-31.442951</td>\n",
       "      <td>34.692959</td>\n",
       "      <td>sad</td>\n",
       "    </tr>\n",
       "  </tbody>\n",
       "</table>\n",
       "</div>"
      ],
      "text/plain": [
       "    LCP1        LCP2        LCP3         LCP4         LCP5         LCP6  \\\n",
       "12   1.0   -4.620619   11.216498   -18.965210    24.804852   -26.135841   \n",
       "27   1.0   -4.243772    9.878223   -16.549742    21.832207   -23.426395   \n",
       "29   1.0   -4.550903   10.997309   -18.775156    24.923088   -26.633648   \n",
       "30   1.0   50.537933 -286.185974   745.173340 -1258.394165  1555.833252   \n",
       "31   1.0  125.109383 -540.966980  1161.417114 -1682.114868  1787.451538   \n",
       "\n",
       "           LCP7         LCP8        LCP9       LCP10      LCP11 Label  \n",
       "12    22.393353   -15.348988    8.033381   -2.891480   0.543560   ang  \n",
       "27    20.516266   -14.562426    8.120422   -3.267545   0.721418   ang  \n",
       "29    23.093740   -16.064711    8.651243   -3.271798   0.654612   ang  \n",
       "30 -1455.320068  1020.872925 -502.843231  140.464554 -10.920460   sad  \n",
       "31 -1398.142578   757.090576 -213.570709  -31.442951  34.692959   sad  "
      ]
     },
     "execution_count": 28,
     "metadata": {},
     "output_type": "execute_result"
    }
   ],
   "source": [
    "df_lcpp.head()"
   ]
  },
  {
   "cell_type": "code",
   "execution_count": 30,
   "id": "7eb5e9d0",
   "metadata": {},
   "outputs": [
    {
     "data": {
      "text/plain": [
       "(3228, 12)"
      ]
     },
     "execution_count": 30,
     "metadata": {},
     "output_type": "execute_result"
    }
   ],
   "source": [
    "df_lcpp.shape"
   ]
  },
  {
   "cell_type": "code",
   "execution_count": 29,
   "id": "178b519f",
   "metadata": {},
   "outputs": [],
   "source": [
    "df_lcpp.to_csv('../../../Data/Features/LCP_data.csv')"
   ]
  }
 ],
 "metadata": {
  "kernelspec": {
   "display_name": "Python 3 (ipykernel)",
   "language": "python",
   "name": "python3"
  },
  "language_info": {
   "codemirror_mode": {
    "name": "ipython",
    "version": 3
   },
   "file_extension": ".py",
   "mimetype": "text/x-python",
   "name": "python",
   "nbconvert_exporter": "python",
   "pygments_lexer": "ipython3",
   "version": "3.11.6"
  }
 },
 "nbformat": 4,
 "nbformat_minor": 5
}
