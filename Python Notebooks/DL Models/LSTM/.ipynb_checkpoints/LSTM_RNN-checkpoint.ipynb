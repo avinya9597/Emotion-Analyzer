{
 "cells": [
  {
   "cell_type": "markdown",
   "id": "50732b5f",
   "metadata": {},
   "source": [
    "# LSTM/RNN"
   ]
  },
  {
   "cell_type": "code",
   "execution_count": 2,
   "id": "be7e0b64",
   "metadata": {},
   "outputs": [],
   "source": [
    "import pandas as pd\n",
    "import numpy as np\n",
    "import seaborn as sns\n",
    "from matplotlib import pyplot as plt\n",
    "\n",
    "from sklearn import metrics \n",
    "from sklearn.metrics import confusion_matrix, accuracy_score\n",
    "from sklearn.preprocessing import LabelEncoder\n",
    "from sklearn.model_selection import train_test_split \n",
    "\n",
    "from keras.models import Sequential\n",
    "from keras.layers import Dense, Dropout, Activation, LSTM\n",
    "from keras.optimizers import Adam\n",
    "from keras.utils import to_categorical"
   ]
  },
  {
   "cell_type": "markdown",
   "id": "a58e17b2",
   "metadata": {},
   "source": [
    "## MFCC"
   ]
  },
  {
   "cell_type": "code",
   "execution_count": 3,
   "id": "ab0d3425",
   "metadata": {},
   "outputs": [],
   "source": [
    "mfcc_df = pd.read_csv('../../../Data/Features/MFCC_Data.csv',index_col=0)"
   ]
  },
  {
   "cell_type": "code",
   "execution_count": 4,
   "id": "9e517503",
   "metadata": {},
   "outputs": [
    {
     "data": {
      "text/html": [
       "<div>\n",
       "<style scoped>\n",
       "    .dataframe tbody tr th:only-of-type {\n",
       "        vertical-align: middle;\n",
       "    }\n",
       "\n",
       "    .dataframe tbody tr th {\n",
       "        vertical-align: top;\n",
       "    }\n",
       "\n",
       "    .dataframe thead th {\n",
       "        text-align: right;\n",
       "    }\n",
       "</style>\n",
       "<table border=\"1\" class=\"dataframe\">\n",
       "  <thead>\n",
       "    <tr style=\"text-align: right;\">\n",
       "      <th></th>\n",
       "      <th>MFCC_1</th>\n",
       "      <th>MFCC_2</th>\n",
       "      <th>MFCC_3</th>\n",
       "      <th>MFCC_4</th>\n",
       "      <th>MFCC_5</th>\n",
       "      <th>MFCC_6</th>\n",
       "      <th>MFCC_7</th>\n",
       "      <th>MFCC_8</th>\n",
       "      <th>MFCC_9</th>\n",
       "      <th>MFCC_10</th>\n",
       "      <th>...</th>\n",
       "      <th>MFCC_42</th>\n",
       "      <th>MFCC_43</th>\n",
       "      <th>MFCC_44</th>\n",
       "      <th>MFCC_45</th>\n",
       "      <th>MFCC_46</th>\n",
       "      <th>MFCC_47</th>\n",
       "      <th>MFCC_48</th>\n",
       "      <th>MFCC_49</th>\n",
       "      <th>MFCC_50</th>\n",
       "      <th>Label</th>\n",
       "    </tr>\n",
       "  </thead>\n",
       "  <tbody>\n",
       "    <tr>\n",
       "      <th>12</th>\n",
       "      <td>-289.21213</td>\n",
       "      <td>110.805435</td>\n",
       "      <td>-21.313496</td>\n",
       "      <td>15.978510</td>\n",
       "      <td>-22.054483</td>\n",
       "      <td>3.363043</td>\n",
       "      <td>-11.504783</td>\n",
       "      <td>4.508069</td>\n",
       "      <td>-4.662264</td>\n",
       "      <td>4.716395</td>\n",
       "      <td>...</td>\n",
       "      <td>0.059355</td>\n",
       "      <td>2.855525</td>\n",
       "      <td>1.902572</td>\n",
       "      <td>-0.555519</td>\n",
       "      <td>1.149774</td>\n",
       "      <td>2.588985</td>\n",
       "      <td>1.999745</td>\n",
       "      <td>-1.386203</td>\n",
       "      <td>-1.444516</td>\n",
       "      <td>ang</td>\n",
       "    </tr>\n",
       "    <tr>\n",
       "      <th>27</th>\n",
       "      <td>-257.24110</td>\n",
       "      <td>99.345795</td>\n",
       "      <td>-10.082610</td>\n",
       "      <td>29.844202</td>\n",
       "      <td>-9.154385</td>\n",
       "      <td>3.967014</td>\n",
       "      <td>-12.355303</td>\n",
       "      <td>-1.142314</td>\n",
       "      <td>-10.105771</td>\n",
       "      <td>-5.000117</td>\n",
       "      <td>...</td>\n",
       "      <td>0.989184</td>\n",
       "      <td>0.651739</td>\n",
       "      <td>0.792287</td>\n",
       "      <td>1.076015</td>\n",
       "      <td>-0.238661</td>\n",
       "      <td>1.113345</td>\n",
       "      <td>1.410870</td>\n",
       "      <td>0.780703</td>\n",
       "      <td>1.017746</td>\n",
       "      <td>ang</td>\n",
       "    </tr>\n",
       "    <tr>\n",
       "      <th>29</th>\n",
       "      <td>-162.67676</td>\n",
       "      <td>97.780200</td>\n",
       "      <td>-46.044758</td>\n",
       "      <td>14.602550</td>\n",
       "      <td>-16.414543</td>\n",
       "      <td>1.585601</td>\n",
       "      <td>-16.828533</td>\n",
       "      <td>-6.045789</td>\n",
       "      <td>-7.403815</td>\n",
       "      <td>2.705874</td>\n",
       "      <td>...</td>\n",
       "      <td>0.827159</td>\n",
       "      <td>-0.507063</td>\n",
       "      <td>0.961427</td>\n",
       "      <td>0.716429</td>\n",
       "      <td>-0.255313</td>\n",
       "      <td>0.953160</td>\n",
       "      <td>0.523185</td>\n",
       "      <td>-0.263831</td>\n",
       "      <td>0.031629</td>\n",
       "      <td>ang</td>\n",
       "    </tr>\n",
       "    <tr>\n",
       "      <th>30</th>\n",
       "      <td>-440.63580</td>\n",
       "      <td>130.743640</td>\n",
       "      <td>0.374263</td>\n",
       "      <td>29.192797</td>\n",
       "      <td>-6.186107</td>\n",
       "      <td>13.845780</td>\n",
       "      <td>-11.397534</td>\n",
       "      <td>9.895559</td>\n",
       "      <td>-3.589840</td>\n",
       "      <td>6.202628</td>\n",
       "      <td>...</td>\n",
       "      <td>-0.201709</td>\n",
       "      <td>2.073562</td>\n",
       "      <td>0.830128</td>\n",
       "      <td>-0.185219</td>\n",
       "      <td>-0.298924</td>\n",
       "      <td>1.384827</td>\n",
       "      <td>-0.419494</td>\n",
       "      <td>0.965666</td>\n",
       "      <td>-0.594039</td>\n",
       "      <td>sad</td>\n",
       "    </tr>\n",
       "    <tr>\n",
       "      <th>31</th>\n",
       "      <td>-454.82550</td>\n",
       "      <td>133.810840</td>\n",
       "      <td>-1.461820</td>\n",
       "      <td>33.532536</td>\n",
       "      <td>-11.242642</td>\n",
       "      <td>18.659878</td>\n",
       "      <td>-11.550693</td>\n",
       "      <td>15.192266</td>\n",
       "      <td>-6.038576</td>\n",
       "      <td>10.610360</td>\n",
       "      <td>...</td>\n",
       "      <td>-0.389133</td>\n",
       "      <td>1.939244</td>\n",
       "      <td>0.504643</td>\n",
       "      <td>0.578664</td>\n",
       "      <td>-0.076486</td>\n",
       "      <td>1.395140</td>\n",
       "      <td>-0.559993</td>\n",
       "      <td>-0.541744</td>\n",
       "      <td>-1.073842</td>\n",
       "      <td>sad</td>\n",
       "    </tr>\n",
       "  </tbody>\n",
       "</table>\n",
       "<p>5 rows × 51 columns</p>\n",
       "</div>"
      ],
      "text/plain": [
       "       MFCC_1      MFCC_2     MFCC_3     MFCC_4     MFCC_5     MFCC_6  \\\n",
       "12 -289.21213  110.805435 -21.313496  15.978510 -22.054483   3.363043   \n",
       "27 -257.24110   99.345795 -10.082610  29.844202  -9.154385   3.967014   \n",
       "29 -162.67676   97.780200 -46.044758  14.602550 -16.414543   1.585601   \n",
       "30 -440.63580  130.743640   0.374263  29.192797  -6.186107  13.845780   \n",
       "31 -454.82550  133.810840  -1.461820  33.532536 -11.242642  18.659878   \n",
       "\n",
       "       MFCC_7     MFCC_8     MFCC_9    MFCC_10  ...   MFCC_42   MFCC_43  \\\n",
       "12 -11.504783   4.508069  -4.662264   4.716395  ...  0.059355  2.855525   \n",
       "27 -12.355303  -1.142314 -10.105771  -5.000117  ...  0.989184  0.651739   \n",
       "29 -16.828533  -6.045789  -7.403815   2.705874  ...  0.827159 -0.507063   \n",
       "30 -11.397534   9.895559  -3.589840   6.202628  ... -0.201709  2.073562   \n",
       "31 -11.550693  15.192266  -6.038576  10.610360  ... -0.389133  1.939244   \n",
       "\n",
       "     MFCC_44   MFCC_45   MFCC_46   MFCC_47   MFCC_48   MFCC_49   MFCC_50  \\\n",
       "12  1.902572 -0.555519  1.149774  2.588985  1.999745 -1.386203 -1.444516   \n",
       "27  0.792287  1.076015 -0.238661  1.113345  1.410870  0.780703  1.017746   \n",
       "29  0.961427  0.716429 -0.255313  0.953160  0.523185 -0.263831  0.031629   \n",
       "30  0.830128 -0.185219 -0.298924  1.384827 -0.419494  0.965666 -0.594039   \n",
       "31  0.504643  0.578664 -0.076486  1.395140 -0.559993 -0.541744 -1.073842   \n",
       "\n",
       "    Label  \n",
       "12    ang  \n",
       "27    ang  \n",
       "29    ang  \n",
       "30    sad  \n",
       "31    sad  \n",
       "\n",
       "[5 rows x 51 columns]"
      ]
     },
     "execution_count": 4,
     "metadata": {},
     "output_type": "execute_result"
    }
   ],
   "source": [
    "mfcc_df.head()"
   ]
  },
  {
   "cell_type": "markdown",
   "id": "8868f921",
   "metadata": {},
   "source": [
    "### Number of labels\n"
   ]
  },
  {
   "cell_type": "code",
   "execution_count": 5,
   "id": "3959da18",
   "metadata": {},
   "outputs": [
    {
     "data": {
      "text/plain": [
       "3"
      ]
     },
     "execution_count": 5,
     "metadata": {},
     "output_type": "execute_result"
    }
   ],
   "source": [
    "new_lab = mfcc_df['Label']\n",
    "count_lab= len(mfcc_df['Label'].value_counts())\n",
    "count_lab"
   ]
  },
  {
   "cell_type": "markdown",
   "id": "10dddad2",
   "metadata": {},
   "source": [
    "### Extract features and labels and store it in variables for further model training"
   ]
  },
  {
   "cell_type": "code",
   "execution_count": 6,
   "id": "1e61e2ed",
   "metadata": {},
   "outputs": [],
   "source": [
    "features = mfcc_df.drop(['Label'], axis=1).values\n",
    "lab = mfcc_df['Label'].values"
   ]
  },
  {
   "cell_type": "markdown",
   "id": "e56c7408",
   "metadata": {},
   "source": [
    "### Convert features and corresponding classification labels into numpy arrays"
   ]
  },
  {
   "cell_type": "code",
   "execution_count": 7,
   "id": "8c5befc5",
   "metadata": {},
   "outputs": [],
   "source": [
    "X = np.array(features.tolist())\n",
    "y = np.array(lab.tolist())"
   ]
  },
  {
   "cell_type": "markdown",
   "id": "3514ae63",
   "metadata": {},
   "source": [
    "### Encode the classification labels\n"
   ]
  },
  {
   "cell_type": "code",
   "execution_count": 8,
   "id": "6d047a82",
   "metadata": {},
   "outputs": [],
   "source": [
    "le = LabelEncoder()\n",
    "yy = to_categorical(le.fit_transform(y))"
   ]
  },
  {
   "cell_type": "markdown",
   "id": "57e07c09",
   "metadata": {},
   "source": [
    "### Split the data into training and testing set"
   ]
  },
  {
   "cell_type": "code",
   "execution_count": 9,
   "id": "4be699cf",
   "metadata": {},
   "outputs": [],
   "source": [
    "# split the dataset \n",
    "x_train, x_test, y_train, y_test = train_test_split(X, yy, test_size=0.25, random_state = 4)"
   ]
  },
  {
   "cell_type": "code",
   "execution_count": 10,
   "id": "0e640227",
   "metadata": {},
   "outputs": [
    {
     "name": "stdout",
     "output_type": "stream",
     "text": [
      "(2421, 50)\n",
      "(2421, 3)\n",
      "(807, 50)\n",
      "(807, 3)\n"
     ]
    }
   ],
   "source": [
    "print(x_train.shape)\n",
    "print(y_train.shape)\n",
    "print(x_test.shape)\n",
    "print(y_test.shape)"
   ]
  },
  {
   "cell_type": "markdown",
   "id": "c12d06ec",
   "metadata": {},
   "source": [
    "### Build Model"
   ]
  },
  {
   "cell_type": "code",
   "execution_count": 11,
   "id": "0bef08a4",
   "metadata": {},
   "outputs": [],
   "source": [
    "mfcc_lstm_model = Sequential([\n",
    "    LSTM(256, return_sequences=False, input_shape=(50,1)),\n",
    "    Dropout(0.2),\n",
    "    Dense(128, activation='relu'),\n",
    "    Dropout(0.2),\n",
    "    Dense(64, activation='relu'),\n",
    "    Dropout(0.2),\n",
    "    Dense(count_lab, activation='softmax')\n",
    "])"
   ]
  },
  {
   "cell_type": "markdown",
   "id": "9578f02c",
   "metadata": {},
   "source": [
    "### Compile and Run the model"
   ]
  },
  {
   "cell_type": "code",
   "execution_count": 12,
   "id": "2825d13b",
   "metadata": {},
   "outputs": [],
   "source": [
    "mfcc_lstm_model.compile(loss='categorical_crossentropy', optimizer='adam', metrics=['accuracy'])"
   ]
  },
  {
   "cell_type": "code",
   "execution_count": 13,
   "id": "85a7120f",
   "metadata": {
    "scrolled": true
   },
   "outputs": [
    {
     "name": "stdout",
     "output_type": "stream",
     "text": [
      "Model: \"sequential\"\n",
      "_________________________________________________________________\n",
      " Layer (type)                Output Shape              Param #   \n",
      "=================================================================\n",
      " lstm (LSTM)                 (None, 256)               264192    \n",
      "                                                                 \n",
      " dropout (Dropout)           (None, 256)               0         \n",
      "                                                                 \n",
      " dense (Dense)               (None, 128)               32896     \n",
      "                                                                 \n",
      " dropout_1 (Dropout)         (None, 128)               0         \n",
      "                                                                 \n",
      " dense_1 (Dense)             (None, 64)                8256      \n",
      "                                                                 \n",
      " dropout_2 (Dropout)         (None, 64)                0         \n",
      "                                                                 \n",
      " dense_2 (Dense)             (None, 3)                 195       \n",
      "                                                                 \n",
      "=================================================================\n",
      "Total params: 305,539\n",
      "Trainable params: 305,539\n",
      "Non-trainable params: 0\n",
      "_________________________________________________________________\n"
     ]
    }
   ],
   "source": [
    "mfcc_lstm_model.summary()"
   ]
  },
  {
   "cell_type": "code",
   "execution_count": 14,
   "id": "1338d199",
   "metadata": {
    "scrolled": true
   },
   "outputs": [
    {
     "name": "stdout",
     "output_type": "stream",
     "text": [
      "Epoch 1/10\n",
      "76/76 [==============================] - 20s 220ms/step - loss: 0.9574 - accuracy: 0.5143 - val_loss: 0.8355 - val_accuracy: 0.6047\n",
      "Epoch 2/10\n",
      "76/76 [==============================] - 17s 227ms/step - loss: 0.8229 - accuracy: 0.6014 - val_loss: 0.8121 - val_accuracy: 0.6146\n",
      "Epoch 3/10\n",
      "76/76 [==============================] - 11s 143ms/step - loss: 0.7932 - accuracy: 0.6109 - val_loss: 0.7995 - val_accuracy: 0.6084\n",
      "Epoch 4/10\n",
      "76/76 [==============================] - 16s 204ms/step - loss: 0.7852 - accuracy: 0.6188 - val_loss: 0.7937 - val_accuracy: 0.6221\n",
      "Epoch 5/10\n",
      "76/76 [==============================] - 16s 213ms/step - loss: 0.7582 - accuracy: 0.6382 - val_loss: 0.8204 - val_accuracy: 0.5886\n",
      "Epoch 6/10\n",
      "76/76 [==============================] - 14s 191ms/step - loss: 0.7518 - accuracy: 0.6473 - val_loss: 0.7762 - val_accuracy: 0.6295\n",
      "Epoch 7/10\n",
      "76/76 [==============================] - 15s 192ms/step - loss: 0.7382 - accuracy: 0.6534 - val_loss: 0.8122 - val_accuracy: 0.6171\n",
      "Epoch 8/10\n",
      "76/76 [==============================] - 10s 133ms/step - loss: 0.7347 - accuracy: 0.6439 - val_loss: 0.7510 - val_accuracy: 0.6481\n",
      "Epoch 9/10\n",
      "76/76 [==============================] - 17s 222ms/step - loss: 0.7350 - accuracy: 0.6411 - val_loss: 0.7513 - val_accuracy: 0.6431\n",
      "Epoch 10/10\n",
      "76/76 [==============================] - 17s 228ms/step - loss: 0.7009 - accuracy: 0.6605 - val_loss: 0.7424 - val_accuracy: 0.6357\n"
     ]
    }
   ],
   "source": [
    "mfcc_his = mfcc_lstm_model.fit(x_train, y_train, epochs=10, validation_data=(x_test, y_test), verbose=1)"
   ]
  },
  {
   "cell_type": "markdown",
   "id": "627577e5",
   "metadata": {},
   "source": [
    "### Evaluating the model on the training and testing set\n"
   ]
  },
  {
   "cell_type": "code",
   "execution_count": 15,
   "id": "383fa8df",
   "metadata": {},
   "outputs": [
    {
     "name": "stdout",
     "output_type": "stream",
     "text": [
      "Training Accuracy: 66.58%\n",
      "Testing Accuracy: 63.57%\n"
     ]
    }
   ],
   "source": [
    "mfccscore = mfcc_lstm_model.evaluate(x_train, y_train, verbose=0)\n",
    "print(\"Training Accuracy: {0:.2%}\".format(mfccscore[1]))\n",
    "\n",
    "mfccscore = mfcc_lstm_model.evaluate(x_test, y_test, verbose=0)\n",
    "print(\"Testing Accuracy: {0:.2%}\".format(mfccscore[1]))"
   ]
  },
  {
   "cell_type": "markdown",
   "id": "db857555",
   "metadata": {},
   "source": [
    "### Plot Epochs for Accracy and Loss"
   ]
  },
  {
   "cell_type": "code",
   "execution_count": 16,
   "id": "ec18f286",
   "metadata": {},
   "outputs": [
    {
     "data": {
      "image/png": "[encoded data removed]",
      "text/plain": [
       "<Figure size 640x480 with 1 Axes>"
      ]
     },
     "metadata": {},
     "output_type": "display_data"
    }
   ],
   "source": [
    "plt.plot(mfcc_his.history['accuracy'])\n",
    "plt.plot(mfcc_his.history['val_accuracy'])\n",
    "plt.title('MFCC LSTM/RNN Model Accuracy')\n",
    "plt.xlabel('Epoch')\n",
    "plt.ylabel('Accuracy')\n",
    "plt.legend(['Train', 'Test'], loc='upper left')\n",
    "plt.show()"
   ]
  },
  {
   "cell_type": "code",
   "execution_count": 17,
   "id": "f3ff5b7a",
   "metadata": {},
   "outputs": [
    {
     "data": {
      "image/png": "[encoded data removed]",
      "text/plain": [
       "<Figure size 640x480 with 1 Axes>"
      ]
     },
     "metadata": {},
     "output_type": "display_data"
    }
   ],
   "source": [
    "plt.plot(mfcc_his.history['loss'])\n",
    "plt.plot(mfcc_his.history['val_loss'])\n",
    "plt.title('MFCC LSTM/RNN Model Loss')\n",
    "plt.xlabel('Epoch')\n",
    "plt.ylabel('Loss')\n",
    "plt.legend(['Train', 'Test'], loc='upper left')\n",
    "plt.show()"
   ]
  },
  {
   "cell_type": "markdown",
   "id": "540623c8",
   "metadata": {},
   "source": [
    "## PCP"
   ]
  },
  {
   "cell_type": "code",
   "execution_count": 18,
   "id": "9c51d7a8",
   "metadata": {},
   "outputs": [],
   "source": [
    "pcp_df = pd.read_csv('../../../Data/Features/PCP_Data.csv',index_col=0)"
   ]
  },
  {
   "cell_type": "code",
   "execution_count": 19,
   "id": "6b679486",
   "metadata": {},
   "outputs": [
    {
     "data": {
      "text/html": [
       "<div>\n",
       "<style scoped>\n",
       "    .dataframe tbody tr th:only-of-type {\n",
       "        vertical-align: middle;\n",
       "    }\n",
       "\n",
       "    .dataframe tbody tr th {\n",
       "        vertical-align: top;\n",
       "    }\n",
       "\n",
       "    .dataframe thead th {\n",
       "        text-align: right;\n",
       "    }\n",
       "</style>\n",
       "<table border=\"1\" class=\"dataframe\">\n",
       "  <thead>\n",
       "    <tr style=\"text-align: right;\">\n",
       "      <th></th>\n",
       "      <th>PCP1</th>\n",
       "      <th>PCP2</th>\n",
       "      <th>PCP3</th>\n",
       "      <th>PCP4</th>\n",
       "      <th>PCP5</th>\n",
       "      <th>PCP6</th>\n",
       "      <th>PCP7</th>\n",
       "      <th>PCP8</th>\n",
       "      <th>PCP9</th>\n",
       "      <th>PCP10</th>\n",
       "      <th>PCP11</th>\n",
       "      <th>PCP12</th>\n",
       "      <th>Label</th>\n",
       "    </tr>\n",
       "  </thead>\n",
       "  <tbody>\n",
       "    <tr>\n",
       "      <th>12</th>\n",
       "      <td>0.468665</td>\n",
       "      <td>0.418584</td>\n",
       "      <td>0.470229</td>\n",
       "      <td>0.402123</td>\n",
       "      <td>0.438475</td>\n",
       "      <td>0.465702</td>\n",
       "      <td>0.430603</td>\n",
       "      <td>0.472777</td>\n",
       "      <td>0.384107</td>\n",
       "      <td>0.399642</td>\n",
       "      <td>0.339348</td>\n",
       "      <td>0.520844</td>\n",
       "      <td>ang</td>\n",
       "    </tr>\n",
       "    <tr>\n",
       "      <th>27</th>\n",
       "      <td>0.463213</td>\n",
       "      <td>0.431536</td>\n",
       "      <td>0.431190</td>\n",
       "      <td>0.410230</td>\n",
       "      <td>0.384602</td>\n",
       "      <td>0.391240</td>\n",
       "      <td>0.444501</td>\n",
       "      <td>0.380445</td>\n",
       "      <td>0.379131</td>\n",
       "      <td>0.423372</td>\n",
       "      <td>0.379215</td>\n",
       "      <td>0.408315</td>\n",
       "      <td>ang</td>\n",
       "    </tr>\n",
       "    <tr>\n",
       "      <th>29</th>\n",
       "      <td>0.393176</td>\n",
       "      <td>0.394829</td>\n",
       "      <td>0.384227</td>\n",
       "      <td>0.407025</td>\n",
       "      <td>0.433312</td>\n",
       "      <td>0.394724</td>\n",
       "      <td>0.341926</td>\n",
       "      <td>0.305187</td>\n",
       "      <td>0.309041</td>\n",
       "      <td>0.324220</td>\n",
       "      <td>0.306156</td>\n",
       "      <td>0.315559</td>\n",
       "      <td>ang</td>\n",
       "    </tr>\n",
       "    <tr>\n",
       "      <th>30</th>\n",
       "      <td>0.546842</td>\n",
       "      <td>0.518859</td>\n",
       "      <td>0.569832</td>\n",
       "      <td>0.522063</td>\n",
       "      <td>0.484166</td>\n",
       "      <td>0.571499</td>\n",
       "      <td>0.470337</td>\n",
       "      <td>0.477768</td>\n",
       "      <td>0.473719</td>\n",
       "      <td>0.458764</td>\n",
       "      <td>0.482684</td>\n",
       "      <td>0.630568</td>\n",
       "      <td>sad</td>\n",
       "    </tr>\n",
       "    <tr>\n",
       "      <th>31</th>\n",
       "      <td>0.690118</td>\n",
       "      <td>0.551490</td>\n",
       "      <td>0.515464</td>\n",
       "      <td>0.597981</td>\n",
       "      <td>0.554355</td>\n",
       "      <td>0.688720</td>\n",
       "      <td>0.588746</td>\n",
       "      <td>0.407920</td>\n",
       "      <td>0.408882</td>\n",
       "      <td>0.432478</td>\n",
       "      <td>0.442955</td>\n",
       "      <td>0.572069</td>\n",
       "      <td>sad</td>\n",
       "    </tr>\n",
       "  </tbody>\n",
       "</table>\n",
       "</div>"
      ],
      "text/plain": [
       "        PCP1      PCP2      PCP3      PCP4      PCP5      PCP6      PCP7  \\\n",
       "12  0.468665  0.418584  0.470229  0.402123  0.438475  0.465702  0.430603   \n",
       "27  0.463213  0.431536  0.431190  0.410230  0.384602  0.391240  0.444501   \n",
       "29  0.393176  0.394829  0.384227  0.407025  0.433312  0.394724  0.341926   \n",
       "30  0.546842  0.518859  0.569832  0.522063  0.484166  0.571499  0.470337   \n",
       "31  0.690118  0.551490  0.515464  0.597981  0.554355  0.688720  0.588746   \n",
       "\n",
       "        PCP8      PCP9     PCP10     PCP11     PCP12 Label  \n",
       "12  0.472777  0.384107  0.399642  0.339348  0.520844   ang  \n",
       "27  0.380445  0.379131  0.423372  0.379215  0.408315   ang  \n",
       "29  0.305187  0.309041  0.324220  0.306156  0.315559   ang  \n",
       "30  0.477768  0.473719  0.458764  0.482684  0.630568   sad  \n",
       "31  0.407920  0.408882  0.432478  0.442955  0.572069   sad  "
      ]
     },
     "execution_count": 19,
     "metadata": {},
     "output_type": "execute_result"
    }
   ],
   "source": [
    "pcp_df.head()"
   ]
  },
  {
   "cell_type": "markdown",
   "id": "fd7ad7a8",
   "metadata": {},
   "source": [
    "### Extract features and labels and store it in variables for further model training"
   ]
  },
  {
   "cell_type": "code",
   "execution_count": 20,
   "id": "45cff4a8",
   "metadata": {},
   "outputs": [],
   "source": [
    "pcpf = pcp_df.drop(['Label'], axis=1).values\n",
    "pcp_lab = pcp_df['Label'].values\n",
    "count= len(pcp_lab)"
   ]
  },
  {
   "cell_type": "markdown",
   "id": "bddc27b1",
   "metadata": {},
   "source": [
    "### Convert features and corresponding classification labels into numpy arrays\n"
   ]
  },
  {
   "cell_type": "code",
   "execution_count": 22,
   "id": "2e0441fa",
   "metadata": {},
   "outputs": [],
   "source": [
    "X_pcp = np.array(pcpf.tolist())\n",
    "y_pcp = np.array(pcp_lab.tolist())"
   ]
  },
  {
   "cell_type": "markdown",
   "id": "01b72964",
   "metadata": {},
   "source": [
    "### Encode the classification labels\n"
   ]
  },
  {
   "cell_type": "code",
   "execution_count": 23,
   "id": "21a9c5a4",
   "metadata": {},
   "outputs": [],
   "source": [
    "label_encoder = LabelEncoder()\n",
    "encoded_labels = label_encoder.fit_transform(y_pcp)\n",
    "encoded_labels = to_categorical(encoded_labels)"
   ]
  },
  {
   "cell_type": "markdown",
   "id": "2734ce69",
   "metadata": {},
   "source": [
    "### Split the data into training and testing set"
   ]
  },
  {
   "cell_type": "code",
   "execution_count": 24,
   "id": "c1380d37",
   "metadata": {},
   "outputs": [],
   "source": [
    "X_train, X_test, y_train, y_test = train_test_split(X_pcp, encoded_labels, test_size=0.2, random_state=21)"
   ]
  },
  {
   "cell_type": "code",
   "execution_count": 25,
   "id": "75c6a272",
   "metadata": {
    "scrolled": true
   },
   "outputs": [
    {
     "name": "stdout",
     "output_type": "stream",
     "text": [
      "(2421, 50)\n",
      "(2582, 3)\n",
      "(807, 50)\n",
      "(646, 3)\n"
     ]
    }
   ],
   "source": [
    "print(x_train.shape)\n",
    "print(y_train.shape)\n",
    "print(x_test.shape)\n",
    "print(y_test.shape)"
   ]
  },
  {
   "cell_type": "markdown",
   "id": "11d04dff",
   "metadata": {},
   "source": [
    "### Build Model"
   ]
  },
  {
   "cell_type": "code",
   "execution_count": 26,
   "id": "aced2156",
   "metadata": {},
   "outputs": [],
   "source": [
    "# Reshape features for LSTM input (add time dimension)\n",
    "X_train_up = X_train[:, np.newaxis, :]  # Add a new axis for time steps\n",
    "X_test_up = X_test[:, np.newaxis, :]\n",
    "rnn = Sequential()\n",
    "rnn.add(LSTM(128, input_shape=(None, 12), return_sequences=True))\n",
    "rnn.add(LSTM(64))\n",
    "rnn.add(Dense(3, activation='softmax')) \n",
    "rnn.add(Dropout(0.5))"
   ]
  },
  {
   "cell_type": "markdown",
   "id": "e793f3d9",
   "metadata": {},
   "source": [
    "### Compile and Run the model"
   ]
  },
  {
   "cell_type": "code",
   "execution_count": 27,
   "id": "cf01c711",
   "metadata": {},
   "outputs": [],
   "source": [
    "rnn.compile(optimizer='adam',\n",
    "              loss='categorical_crossentropy',\n",
    "              metrics=['accuracy'])\n"
   ]
  },
  {
   "cell_type": "code",
   "execution_count": 28,
   "id": "96d966ac",
   "metadata": {},
   "outputs": [
    {
     "name": "stdout",
     "output_type": "stream",
     "text": [
      "Epoch 1/10\n",
      "81/81 [==============================] - 7s 23ms/step - loss: nan - accuracy: 0.3149 - val_loss: 1.0895 - val_accuracy: 0.4969\n",
      "Epoch 2/10\n",
      "81/81 [==============================] - 1s 12ms/step - loss: nan - accuracy: 0.3691 - val_loss: 1.0232 - val_accuracy: 0.4598\n",
      "Epoch 3/10\n",
      "81/81 [==============================] - 1s 11ms/step - loss: nan - accuracy: 0.3741 - val_loss: 0.9373 - val_accuracy: 0.5201\n",
      "Epoch 4/10\n",
      "81/81 [==============================] - 1s 13ms/step - loss: nan - accuracy: 0.3861 - val_loss: 0.8912 - val_accuracy: 0.5588\n",
      "Epoch 5/10\n",
      "81/81 [==============================] - 1s 13ms/step - loss: nan - accuracy: 0.4229 - val_loss: 0.8859 - val_accuracy: 0.5124\n",
      "Epoch 6/10\n",
      "81/81 [==============================] - 1s 11ms/step - loss: nan - accuracy: 0.4105 - val_loss: 0.8950 - val_accuracy: 0.5418\n",
      "Epoch 7/10\n",
      "81/81 [==============================] - 1s 13ms/step - loss: nan - accuracy: 0.4082 - val_loss: 0.8776 - val_accuracy: 0.5666\n",
      "Epoch 8/10\n",
      "81/81 [==============================] - 1s 13ms/step - loss: nan - accuracy: 0.4086 - val_loss: 0.8807 - val_accuracy: 0.5372\n",
      "Epoch 9/10\n",
      "81/81 [==============================] - 1s 14ms/step - loss: nan - accuracy: 0.4129 - val_loss: 0.9048 - val_accuracy: 0.5604\n",
      "Epoch 10/10\n",
      "81/81 [==============================] - 1s 10ms/step - loss: nan - accuracy: 0.4160 - val_loss: 0.8906 - val_accuracy: 0.5155\n"
     ]
    }
   ],
   "source": [
    "rnn_his = rnn.fit(X_train_up, y_train, epochs=10, validation_data=(X_test_up, y_test), verbose=1)"
   ]
  },
  {
   "cell_type": "markdown",
   "id": "2063f152",
   "metadata": {},
   "source": [
    "### Evaluating the model on the training and testing set\n"
   ]
  },
  {
   "cell_type": "code",
   "execution_count": 30,
   "id": "dac00c7d",
   "metadata": {},
   "outputs": [
    {
     "name": "stdout",
     "output_type": "stream",
     "text": [
      "Training Accuracy: 51.70%\n",
      "Testing Accuracy: 51.55%\n"
     ]
    }
   ],
   "source": [
    "pcpscore = rnn.evaluate(X_train_up, y_train, verbose=0)\n",
    "print(\"Training Accuracy: {0:.2%}\".format(pcpscore[1]))\n",
    "\n",
    "pcpscore = rnn.evaluate(X_test_up, y_test, verbose=0)\n",
    "print(\"Testing Accuracy: {0:.2%}\".format(pcpscore[1]))"
   ]
  },
  {
   "cell_type": "markdown",
   "id": "e2ebd1aa",
   "metadata": {},
   "source": [
    "### Plot Epochs for Accracy and Loss"
   ]
  },
  {
   "cell_type": "code",
   "execution_count": 31,
   "id": "1d3d0358",
   "metadata": {},
   "outputs": [
    {
     "data": {
      "image/png": "[encoded data removed]",
      "text/plain": [
       "<Figure size 640x480 with 1 Axes>"
      ]
     },
     "metadata": {},
     "output_type": "display_data"
    }
   ],
   "source": [
    "plt.plot(rnn_his.history['accuracy'])\n",
    "plt.plot(rnn_his.history['val_accuracy'])\n",
    "plt.title('PCP LSTM/RNN Model Accuracy')\n",
    "plt.xlabel('Epoch')\n",
    "plt.ylabel('Accuracy')\n",
    "plt.legend(['Train', 'Test'], loc='upper left')\n",
    "plt.show()"
   ]
  },
  {
   "cell_type": "code",
   "execution_count": 32,
   "id": "8c5ab6a9",
   "metadata": {},
   "outputs": [
    {
     "data": {
      "image/png": "[encoded data removed]",
      "text/plain": [
       "<Figure size 640x480 with 1 Axes>"
      ]
     },
     "metadata": {},
     "output_type": "display_data"
    }
   ],
   "source": [
    "plt.plot(rnn_his.history['loss'])\n",
    "plt.plot(rnn_his.history['val_loss'])\n",
    "plt.title('PCP LSTM/RNN Model Loss')\n",
    "plt.xlabel('Epoch')\n",
    "plt.ylabel('Loss')\n",
    "plt.legend(['Train', 'Test'], loc='upper left')\n",
    "plt.show()"
   ]
  },
  {
   "cell_type": "markdown",
   "id": "b0310ed3",
   "metadata": {},
   "source": [
    "## LCP"
   ]
  },
  {
   "cell_type": "code",
   "execution_count": 33,
   "id": "5700dbd6",
   "metadata": {},
   "outputs": [],
   "source": [
    "df_lcpp = pd.read_csv('../../../Data/Features/LCP_data.csv',index_col=0)"
   ]
  },
  {
   "cell_type": "code",
   "execution_count": 34,
   "id": "bd4391e9",
   "metadata": {},
   "outputs": [
    {
     "data": {
      "text/html": [
       "<div>\n",
       "<style scoped>\n",
       "    .dataframe tbody tr th:only-of-type {\n",
       "        vertical-align: middle;\n",
       "    }\n",
       "\n",
       "    .dataframe tbody tr th {\n",
       "        vertical-align: top;\n",
       "    }\n",
       "\n",
       "    .dataframe thead th {\n",
       "        text-align: right;\n",
       "    }\n",
       "</style>\n",
       "<table border=\"1\" class=\"dataframe\">\n",
       "  <thead>\n",
       "    <tr style=\"text-align: right;\">\n",
       "      <th></th>\n",
       "      <th>LCP1</th>\n",
       "      <th>LCP2</th>\n",
       "      <th>LCP3</th>\n",
       "      <th>LCP4</th>\n",
       "      <th>LCP5</th>\n",
       "      <th>LCP6</th>\n",
       "      <th>LCP7</th>\n",
       "      <th>LCP8</th>\n",
       "      <th>LCP9</th>\n",
       "      <th>LCP10</th>\n",
       "      <th>LCP11</th>\n",
       "      <th>Label</th>\n",
       "    </tr>\n",
       "  </thead>\n",
       "  <tbody>\n",
       "    <tr>\n",
       "      <th>12</th>\n",
       "      <td>1.0</td>\n",
       "      <td>-4.620619</td>\n",
       "      <td>11.216498</td>\n",
       "      <td>-18.965210</td>\n",
       "      <td>24.804852</td>\n",
       "      <td>-26.135841</td>\n",
       "      <td>22.393353</td>\n",
       "      <td>-15.348988</td>\n",
       "      <td>8.033380</td>\n",
       "      <td>-2.891480</td>\n",
       "      <td>0.543560</td>\n",
       "      <td>ang</td>\n",
       "    </tr>\n",
       "    <tr>\n",
       "      <th>27</th>\n",
       "      <td>1.0</td>\n",
       "      <td>-4.243772</td>\n",
       "      <td>9.878223</td>\n",
       "      <td>-16.549742</td>\n",
       "      <td>21.832207</td>\n",
       "      <td>-23.426395</td>\n",
       "      <td>20.516266</td>\n",
       "      <td>-14.562426</td>\n",
       "      <td>8.120422</td>\n",
       "      <td>-3.267545</td>\n",
       "      <td>0.721418</td>\n",
       "      <td>ang</td>\n",
       "    </tr>\n",
       "    <tr>\n",
       "      <th>29</th>\n",
       "      <td>1.0</td>\n",
       "      <td>-4.550903</td>\n",
       "      <td>10.997309</td>\n",
       "      <td>-18.775156</td>\n",
       "      <td>24.923088</td>\n",
       "      <td>-26.633648</td>\n",
       "      <td>23.093740</td>\n",
       "      <td>-16.064710</td>\n",
       "      <td>8.651243</td>\n",
       "      <td>-3.271798</td>\n",
       "      <td>0.654612</td>\n",
       "      <td>ang</td>\n",
       "    </tr>\n",
       "    <tr>\n",
       "      <th>30</th>\n",
       "      <td>1.0</td>\n",
       "      <td>50.537933</td>\n",
       "      <td>-286.185970</td>\n",
       "      <td>745.173340</td>\n",
       "      <td>-1258.394200</td>\n",
       "      <td>1555.833300</td>\n",
       "      <td>-1455.320100</td>\n",
       "      <td>1020.872900</td>\n",
       "      <td>-502.843230</td>\n",
       "      <td>140.464550</td>\n",
       "      <td>-10.920460</td>\n",
       "      <td>sad</td>\n",
       "    </tr>\n",
       "    <tr>\n",
       "      <th>31</th>\n",
       "      <td>1.0</td>\n",
       "      <td>125.109380</td>\n",
       "      <td>-540.967000</td>\n",
       "      <td>1161.417100</td>\n",
       "      <td>-1682.114900</td>\n",
       "      <td>1787.451500</td>\n",
       "      <td>-1398.142600</td>\n",
       "      <td>757.090600</td>\n",
       "      <td>-213.570710</td>\n",
       "      <td>-31.442951</td>\n",
       "      <td>34.692960</td>\n",
       "      <td>sad</td>\n",
       "    </tr>\n",
       "  </tbody>\n",
       "</table>\n",
       "</div>"
      ],
      "text/plain": [
       "    LCP1        LCP2        LCP3         LCP4         LCP5         LCP6  \\\n",
       "12   1.0   -4.620619   11.216498   -18.965210    24.804852   -26.135841   \n",
       "27   1.0   -4.243772    9.878223   -16.549742    21.832207   -23.426395   \n",
       "29   1.0   -4.550903   10.997309   -18.775156    24.923088   -26.633648   \n",
       "30   1.0   50.537933 -286.185970   745.173340 -1258.394200  1555.833300   \n",
       "31   1.0  125.109380 -540.967000  1161.417100 -1682.114900  1787.451500   \n",
       "\n",
       "           LCP7         LCP8        LCP9       LCP10      LCP11 Label  \n",
       "12    22.393353   -15.348988    8.033380   -2.891480   0.543560   ang  \n",
       "27    20.516266   -14.562426    8.120422   -3.267545   0.721418   ang  \n",
       "29    23.093740   -16.064710    8.651243   -3.271798   0.654612   ang  \n",
       "30 -1455.320100  1020.872900 -502.843230  140.464550 -10.920460   sad  \n",
       "31 -1398.142600   757.090600 -213.570710  -31.442951  34.692960   sad  "
      ]
     },
     "execution_count": 34,
     "metadata": {},
     "output_type": "execute_result"
    }
   ],
   "source": [
    "df_lcpp.head()"
   ]
  },
  {
   "cell_type": "markdown",
   "id": "dc8a34d1",
   "metadata": {},
   "source": [
    "### Extract features and labels and store it in variables for further model training"
   ]
  },
  {
   "cell_type": "code",
   "execution_count": 35,
   "id": "b39e1a8d",
   "metadata": {},
   "outputs": [],
   "source": [
    "lcpf = df_lcpp.drop(['Label'], axis=1).values\n",
    "lcp_lab = df_lcpp['Label'].values\n",
    "lcpcount= len(lcp_lab)"
   ]
  },
  {
   "cell_type": "code",
   "execution_count": 36,
   "id": "fba14263",
   "metadata": {},
   "outputs": [],
   "source": [
    "### Convert features and corresponding classification labels into numpy arrays"
   ]
  },
  {
   "cell_type": "code",
   "execution_count": 37,
   "id": "9db13c46",
   "metadata": {},
   "outputs": [],
   "source": [
    "X_lcp = np.array(lcpf.tolist())\n",
    "y_lcp = np.array(lcp_lab.tolist())"
   ]
  },
  {
   "cell_type": "code",
   "execution_count": 38,
   "id": "82aed1d4",
   "metadata": {},
   "outputs": [],
   "source": [
    "### Encode the classification labels"
   ]
  },
  {
   "cell_type": "code",
   "execution_count": 39,
   "id": "6ce5e594",
   "metadata": {},
   "outputs": [],
   "source": [
    "label_encoder = LabelEncoder()\n",
    "encoded_labels_lcp = label_encoder.fit_transform(y_lcp)\n",
    "encoded_labels_lcp = to_categorical(encoded_labels_lcp)"
   ]
  },
  {
   "cell_type": "markdown",
   "id": "01b4b6de",
   "metadata": {},
   "source": [
    "### Split the data into training and testing set"
   ]
  },
  {
   "cell_type": "code",
   "execution_count": 40,
   "id": "c8fba742",
   "metadata": {},
   "outputs": [],
   "source": [
    "X_train, X_test, y_train, y_test = train_test_split(X_lcp, encoded_labels_lcp, test_size=0.2, random_state=21)"
   ]
  },
  {
   "cell_type": "markdown",
   "id": "3cf77f02",
   "metadata": {},
   "source": [
    "### Build Model"
   ]
  },
  {
   "cell_type": "code",
   "execution_count": 41,
   "id": "659a414c",
   "metadata": {},
   "outputs": [],
   "source": [
    "# Reshape features for LSTM input (add time dimension)\n",
    "X_train_dn = X_train[:, np.newaxis, :]  # Add a new axis for time steps\n",
    "X_test_dn = X_test[:, np.newaxis, :]\n",
    "lcprnn = Sequential()\n",
    "lcprnn.add(LSTM(128, input_shape=(None, 11), return_sequences=True))\n",
    "lcprnn.add(LSTM(64))\n",
    "lcprnn.add(Dense(3, activation='softmax')) "
   ]
  },
  {
   "cell_type": "markdown",
   "id": "90061f2a",
   "metadata": {},
   "source": [
    "### Compile and Run the model"
   ]
  },
  {
   "cell_type": "code",
   "execution_count": 42,
   "id": "612d2274",
   "metadata": {},
   "outputs": [],
   "source": [
    "lcprnn.compile(optimizer='adam',\n",
    "              loss='categorical_crossentropy',\n",
    "              metrics=['accuracy'])"
   ]
  },
  {
   "cell_type": "code",
   "execution_count": 43,
   "id": "9bd3ec31",
   "metadata": {},
   "outputs": [
    {
     "name": "stdout",
     "output_type": "stream",
     "text": [
      "Epoch 1/10\n",
      "81/81 [==============================] - 6s 25ms/step - loss: 1.0955 - accuracy: 0.3536 - val_loss: 1.0876 - val_accuracy: 0.4164\n",
      "Epoch 2/10\n",
      "81/81 [==============================] - 1s 14ms/step - loss: 1.0878 - accuracy: 0.3734 - val_loss: 1.0849 - val_accuracy: 0.4272\n",
      "Epoch 3/10\n",
      "81/81 [==============================] - 1s 13ms/step - loss: 1.0800 - accuracy: 0.3954 - val_loss: 1.0938 - val_accuracy: 0.3762\n",
      "Epoch 4/10\n",
      "81/81 [==============================] - 1s 11ms/step - loss: 1.0807 - accuracy: 0.3954 - val_loss: 1.0879 - val_accuracy: 0.4040\n",
      "Epoch 5/10\n",
      "81/81 [==============================] - 1s 11ms/step - loss: 1.0799 - accuracy: 0.3873 - val_loss: 1.0865 - val_accuracy: 0.4102\n",
      "Epoch 6/10\n",
      "81/81 [==============================] - 1s 9ms/step - loss: 1.0812 - accuracy: 0.3842 - val_loss: 1.0865 - val_accuracy: 0.4118\n",
      "Epoch 7/10\n",
      "81/81 [==============================] - 1s 8ms/step - loss: 1.0788 - accuracy: 0.3927 - val_loss: 1.0840 - val_accuracy: 0.4056\n",
      "Epoch 8/10\n",
      "81/81 [==============================] - 1s 8ms/step - loss: 1.0781 - accuracy: 0.3919 - val_loss: 1.0789 - val_accuracy: 0.4396\n",
      "Epoch 9/10\n",
      "81/81 [==============================] - 1s 10ms/step - loss: 1.0779 - accuracy: 0.3966 - val_loss: 1.0769 - val_accuracy: 0.4334\n",
      "Epoch 10/10\n",
      "81/81 [==============================] - 1s 9ms/step - loss: 1.0822 - accuracy: 0.3912 - val_loss: 1.0841 - val_accuracy: 0.4303\n"
     ]
    }
   ],
   "source": [
    "lcp_his = lcprnn.fit(X_train_dn, y_train, epochs=10, batch_size=32, validation_data=(X_test_dn, y_test))"
   ]
  },
  {
   "cell_type": "markdown",
   "id": "4413b2b9",
   "metadata": {},
   "source": [
    "### Evaluating the model on the training and testing set\n"
   ]
  },
  {
   "cell_type": "code",
   "execution_count": 44,
   "id": "5b72d8c2",
   "metadata": {},
   "outputs": [
    {
     "name": "stdout",
     "output_type": "stream",
     "text": [
      "Training Accuracy: 39.39%\n",
      "Testing Accuracy: 43.03%\n"
     ]
    }
   ],
   "source": [
    "lcpscore = lcprnn.evaluate(X_train_dn, y_train, verbose=0)\n",
    "print(\"Training Accuracy: {0:.2%}\".format(lcpscore[1]))\n",
    "\n",
    "lcpscore = lcprnn.evaluate(X_test_dn, y_test, verbose=0)\n",
    "print(\"Testing Accuracy: {0:.2%}\".format(lcpscore[1]))"
   ]
  },
  {
   "cell_type": "markdown",
   "id": "319bdd22",
   "metadata": {},
   "source": [
    "### Plot Epochs for Accracy and Loss"
   ]
  },
  {
   "cell_type": "code",
   "execution_count": 46,
   "id": "521aaf3f",
   "metadata": {},
   "outputs": [
    {
     "data": {
      "image/png": "[encoded data removed]",
      "text/plain": [
       "<Figure size 640x480 with 1 Axes>"
      ]
     },
     "metadata": {},
     "output_type": "display_data"
    }
   ],
   "source": [
    "plt.plot(lcp_his.history['accuracy'])\n",
    "plt.plot(lcp_his.history['val_accuracy'])\n",
    "plt.title('LCP LSTM/RNN Model Accuracy')\n",
    "plt.xlabel('Epoch')\n",
    "plt.ylabel('Accuracy')\n",
    "plt.legend(['Train', 'Test'], loc='upper left')\n",
    "plt.show()"
   ]
  },
  {
   "cell_type": "code",
   "execution_count": 47,
   "id": "0d574574",
   "metadata": {},
   "outputs": [
    {
     "data": {
      "image/png": "[encoded data removed]",
      "text/plain": [
       "<Figure size 640x480 with 1 Axes>"
      ]
     },
     "metadata": {},
     "output_type": "display_data"
    }
   ],
   "source": [
    "plt.plot(lcp_his.history['loss'])\n",
    "plt.plot(lcp_his.history['val_loss'])\n",
    "plt.title('LCP LSTM/RNN Model Loss')\n",
    "plt.xlabel('Epoch')\n",
    "plt.ylabel('Loss')\n",
    "plt.legend(['Train', 'Test'], loc='upper left')\n",
    "plt.show()"
   ]
  },
  {
   "cell_type": "markdown",
   "id": "77296bf2",
   "metadata": {},
   "source": [
    "## Conclusion"
   ]
  },
  {
   "cell_type": "markdown",
   "id": "b0fe6d86",
   "metadata": {},
   "source": [
    "The reported accuracies for your Long Short-Term Memory (LSTM)/Recurrent Neural Network (RNN) model using different features suggest varying performance based on the type of feature used. Let's analyze the results for each feature:\n",
    "\n",
    "1. **MFCC Feature:**\n",
    "   - **Training Accuracy:** 66.58%\n",
    "   - **Testing Accuracy:** 63.57%\n",
    "   \n",
    "   The training and testing accuracies for MFCC features are relatively close, indicating that the model generalizes reasonably well to new, unseen data. While the accuracies are not as high as in the CNN model, they suggest that the LSTM/RNN model is capturing some of the temporal dependencies present in the MFCC features.\n",
    "\n",
    "2. **PCP Feature:**\n",
    "   - **Training Accuracy:** 51.70%\n",
    "   - **Testing Accuracy:** 51.55%\n",
    "   \n",
    "   Both training and testing accuracies for PCP features are moderate and relatively close, suggesting that the LSTM/RNN model is able to learn some patterns from these features. However, the overall accuracy is not very high, indicating that PCP features may not capture the relevant information as effectively as MFCC features for this task.\n",
    "\n",
    "3. **LCP Feature:**\n",
    "   - **Training Accuracy:** 39.39%\n",
    "   - **Testing Accuracy:** 43.03%\n",
    "   \n",
    "   The training and testing accuracies for LCP features are lower compared to MFCC and PCP features. The model's performance is not as strong, and there is a notable difference between training and testing accuracies, suggesting challenges in generalization.\n",
    "\n",
    "**Conclusion:**\n",
    "- The LSTM/RNN model performs reasonably well with MFCC features, suggesting that it can effectively capture temporal dependencies in the data. The accuracies are not as high as the CNN model but are comparable.\n",
    "- PCP features yield moderate accuracy, indicating that the LSTM/RNN model can still learn some patterns from these features, although they might not be as informative as MFCC features.\n",
    "- LCP features result in the lowest accuracies, suggesting that they may not be well-suited for capturing temporal dependencies in the data for this particular task.\n",
    "\n",
    "**Possible Reasons for Lower Accuracy with Other Features:**\n",
    "1. **Temporal Dynamics:** LSTM/RNN models are designed to capture temporal dependencies in sequences. MFCC features, which are commonly used in speech and audio processing, might inherently contain more temporal information compared to PCP and LCP features.\n",
    "2. **Feature Complexity:** PCP and LCP features may not effectively represent the intricate temporal patterns present in the data. More complex features or feature engineering may be necessary to improve model performance.\n",
    "3. **Model Hyperparameters:** The architecture and hyperparameters of the LSTM/RNN model might not be optimized for PCP and LCP features. Fine-tuning these aspects could potentially improve results.\n",
    "\n",
    "To enhance the accuracy for PCP and LCP features, you might consider experimenting with different feature representations, adjusting model architecture, or conducting more extensive hyperparameter tuning for the LSTM/RNN model. Additionally, exploring domain-specific knowledge or expert input for feature selection may provide insights into improving model performance."
   ]
  },
  {
   "cell_type": "code",
   "execution_count": null,
   "id": "bbc672d2",
   "metadata": {},
   "outputs": [],
   "source": []
  }
 ],
 "metadata": {
  "kernelspec": {
   "display_name": "Python 3 (ipykernel)",
   "language": "python",
   "name": "python3"
  },
  "language_info": {
   "codemirror_mode": {
    "name": "ipython",
    "version": 3
   },
   "file_extension": ".py",
   "mimetype": "text/x-python",
   "name": "python",
   "nbconvert_exporter": "python",
   "pygments_lexer": "ipython3",
   "version": "3.11.6"
  }
 },
 "nbformat": 4,
 "nbformat_minor": 5
}
