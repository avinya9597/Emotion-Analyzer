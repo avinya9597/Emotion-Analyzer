{
 "cells": [
  {
   "cell_type": "markdown",
   "id": "24321626",
   "metadata": {},
   "source": [
    "# CNN - Convolutional Neural Network"
   ]
  },
  {
   "cell_type": "code",
   "execution_count": 10,
   "id": "16e01f11",
   "metadata": {},
   "outputs": [],
   "source": [
    "import pandas as pd\n",
    "import numpy as np\n",
    "import seaborn as sns\n",
    "from matplotlib import pyplot as plt\n",
    "\n",
    "from sklearn import metrics \n",
    "from sklearn.metrics import confusion_matrix, accuracy_score\n",
    "from sklearn.preprocessing import LabelEncoder\n",
    "from sklearn.model_selection import train_test_split \n",
    "\n",
    "from keras.models import Sequential\n",
    "from keras.optimizers import Adam\n",
    "from keras.utils import to_categorical\n",
    "from tensorflow.keras.layers import Dense, Embedding, SimpleRNN,LSTM,Activation, Dropout, Conv1D, Flatten,MaxPooling1D, Conv2D, MaxPooling2D\n",
    "from keras.layers import Input, Flatten, Dropout, Activation, BatchNormalization\n"
   ]
  },
  {
   "cell_type": "code",
   "execution_count": 3,
   "id": "dc4330bc",
   "metadata": {},
   "outputs": [],
   "source": [
    "## MFCC Feature"
   ]
  },
  {
   "cell_type": "code",
   "execution_count": 4,
   "id": "a4b8ec21",
   "metadata": {},
   "outputs": [],
   "source": [
    "mfcc_df = pd.read_csv('../../../Data/Features/MFCC_Data.csv',index_col=0)"
   ]
  },
  {
   "cell_type": "code",
   "execution_count": 5,
   "id": "4455d440",
   "metadata": {},
   "outputs": [
    {
     "data": {
      "text/html": [
       "<div>\n",
       "<style scoped>\n",
       "    .dataframe tbody tr th:only-of-type {\n",
       "        vertical-align: middle;\n",
       "    }\n",
       "\n",
       "    .dataframe tbody tr th {\n",
       "        vertical-align: top;\n",
       "    }\n",
       "\n",
       "    .dataframe thead th {\n",
       "        text-align: right;\n",
       "    }\n",
       "</style>\n",
       "<table border=\"1\" class=\"dataframe\">\n",
       "  <thead>\n",
       "    <tr style=\"text-align: right;\">\n",
       "      <th></th>\n",
       "      <th>MFCC_1</th>\n",
       "      <th>MFCC_2</th>\n",
       "      <th>MFCC_3</th>\n",
       "      <th>MFCC_4</th>\n",
       "      <th>MFCC_5</th>\n",
       "      <th>MFCC_6</th>\n",
       "      <th>MFCC_7</th>\n",
       "      <th>MFCC_8</th>\n",
       "      <th>MFCC_9</th>\n",
       "      <th>MFCC_10</th>\n",
       "      <th>...</th>\n",
       "      <th>MFCC_42</th>\n",
       "      <th>MFCC_43</th>\n",
       "      <th>MFCC_44</th>\n",
       "      <th>MFCC_45</th>\n",
       "      <th>MFCC_46</th>\n",
       "      <th>MFCC_47</th>\n",
       "      <th>MFCC_48</th>\n",
       "      <th>MFCC_49</th>\n",
       "      <th>MFCC_50</th>\n",
       "      <th>Label</th>\n",
       "    </tr>\n",
       "  </thead>\n",
       "  <tbody>\n",
       "    <tr>\n",
       "      <th>12</th>\n",
       "      <td>-289.21213</td>\n",
       "      <td>110.805435</td>\n",
       "      <td>-21.313496</td>\n",
       "      <td>15.978510</td>\n",
       "      <td>-22.054483</td>\n",
       "      <td>3.363043</td>\n",
       "      <td>-11.504783</td>\n",
       "      <td>4.508069</td>\n",
       "      <td>-4.662264</td>\n",
       "      <td>4.716395</td>\n",
       "      <td>...</td>\n",
       "      <td>0.059355</td>\n",
       "      <td>2.855525</td>\n",
       "      <td>1.902572</td>\n",
       "      <td>-0.555519</td>\n",
       "      <td>1.149774</td>\n",
       "      <td>2.588985</td>\n",
       "      <td>1.999745</td>\n",
       "      <td>-1.386203</td>\n",
       "      <td>-1.444516</td>\n",
       "      <td>ang</td>\n",
       "    </tr>\n",
       "    <tr>\n",
       "      <th>27</th>\n",
       "      <td>-257.24110</td>\n",
       "      <td>99.345795</td>\n",
       "      <td>-10.082610</td>\n",
       "      <td>29.844202</td>\n",
       "      <td>-9.154385</td>\n",
       "      <td>3.967014</td>\n",
       "      <td>-12.355303</td>\n",
       "      <td>-1.142314</td>\n",
       "      <td>-10.105771</td>\n",
       "      <td>-5.000117</td>\n",
       "      <td>...</td>\n",
       "      <td>0.989184</td>\n",
       "      <td>0.651739</td>\n",
       "      <td>0.792287</td>\n",
       "      <td>1.076015</td>\n",
       "      <td>-0.238661</td>\n",
       "      <td>1.113345</td>\n",
       "      <td>1.410870</td>\n",
       "      <td>0.780703</td>\n",
       "      <td>1.017746</td>\n",
       "      <td>ang</td>\n",
       "    </tr>\n",
       "    <tr>\n",
       "      <th>29</th>\n",
       "      <td>-162.67676</td>\n",
       "      <td>97.780200</td>\n",
       "      <td>-46.044758</td>\n",
       "      <td>14.602550</td>\n",
       "      <td>-16.414543</td>\n",
       "      <td>1.585601</td>\n",
       "      <td>-16.828533</td>\n",
       "      <td>-6.045789</td>\n",
       "      <td>-7.403815</td>\n",
       "      <td>2.705874</td>\n",
       "      <td>...</td>\n",
       "      <td>0.827159</td>\n",
       "      <td>-0.507063</td>\n",
       "      <td>0.961427</td>\n",
       "      <td>0.716429</td>\n",
       "      <td>-0.255313</td>\n",
       "      <td>0.953160</td>\n",
       "      <td>0.523185</td>\n",
       "      <td>-0.263831</td>\n",
       "      <td>0.031629</td>\n",
       "      <td>ang</td>\n",
       "    </tr>\n",
       "    <tr>\n",
       "      <th>30</th>\n",
       "      <td>-440.63580</td>\n",
       "      <td>130.743640</td>\n",
       "      <td>0.374263</td>\n",
       "      <td>29.192797</td>\n",
       "      <td>-6.186107</td>\n",
       "      <td>13.845780</td>\n",
       "      <td>-11.397534</td>\n",
       "      <td>9.895559</td>\n",
       "      <td>-3.589840</td>\n",
       "      <td>6.202628</td>\n",
       "      <td>...</td>\n",
       "      <td>-0.201709</td>\n",
       "      <td>2.073562</td>\n",
       "      <td>0.830128</td>\n",
       "      <td>-0.185219</td>\n",
       "      <td>-0.298924</td>\n",
       "      <td>1.384827</td>\n",
       "      <td>-0.419494</td>\n",
       "      <td>0.965666</td>\n",
       "      <td>-0.594039</td>\n",
       "      <td>sad</td>\n",
       "    </tr>\n",
       "    <tr>\n",
       "      <th>31</th>\n",
       "      <td>-454.82550</td>\n",
       "      <td>133.810840</td>\n",
       "      <td>-1.461820</td>\n",
       "      <td>33.532536</td>\n",
       "      <td>-11.242642</td>\n",
       "      <td>18.659878</td>\n",
       "      <td>-11.550693</td>\n",
       "      <td>15.192266</td>\n",
       "      <td>-6.038576</td>\n",
       "      <td>10.610360</td>\n",
       "      <td>...</td>\n",
       "      <td>-0.389133</td>\n",
       "      <td>1.939244</td>\n",
       "      <td>0.504643</td>\n",
       "      <td>0.578664</td>\n",
       "      <td>-0.076486</td>\n",
       "      <td>1.395140</td>\n",
       "      <td>-0.559993</td>\n",
       "      <td>-0.541744</td>\n",
       "      <td>-1.073842</td>\n",
       "      <td>sad</td>\n",
       "    </tr>\n",
       "  </tbody>\n",
       "</table>\n",
       "<p>5 rows × 51 columns</p>\n",
       "</div>"
      ],
      "text/plain": [
       "       MFCC_1      MFCC_2     MFCC_3     MFCC_4     MFCC_5     MFCC_6  \\\n",
       "12 -289.21213  110.805435 -21.313496  15.978510 -22.054483   3.363043   \n",
       "27 -257.24110   99.345795 -10.082610  29.844202  -9.154385   3.967014   \n",
       "29 -162.67676   97.780200 -46.044758  14.602550 -16.414543   1.585601   \n",
       "30 -440.63580  130.743640   0.374263  29.192797  -6.186107  13.845780   \n",
       "31 -454.82550  133.810840  -1.461820  33.532536 -11.242642  18.659878   \n",
       "\n",
       "       MFCC_7     MFCC_8     MFCC_9    MFCC_10  ...   MFCC_42   MFCC_43  \\\n",
       "12 -11.504783   4.508069  -4.662264   4.716395  ...  0.059355  2.855525   \n",
       "27 -12.355303  -1.142314 -10.105771  -5.000117  ...  0.989184  0.651739   \n",
       "29 -16.828533  -6.045789  -7.403815   2.705874  ...  0.827159 -0.507063   \n",
       "30 -11.397534   9.895559  -3.589840   6.202628  ... -0.201709  2.073562   \n",
       "31 -11.550693  15.192266  -6.038576  10.610360  ... -0.389133  1.939244   \n",
       "\n",
       "     MFCC_44   MFCC_45   MFCC_46   MFCC_47   MFCC_48   MFCC_49   MFCC_50  \\\n",
       "12  1.902572 -0.555519  1.149774  2.588985  1.999745 -1.386203 -1.444516   \n",
       "27  0.792287  1.076015 -0.238661  1.113345  1.410870  0.780703  1.017746   \n",
       "29  0.961427  0.716429 -0.255313  0.953160  0.523185 -0.263831  0.031629   \n",
       "30  0.830128 -0.185219 -0.298924  1.384827 -0.419494  0.965666 -0.594039   \n",
       "31  0.504643  0.578664 -0.076486  1.395140 -0.559993 -0.541744 -1.073842   \n",
       "\n",
       "    Label  \n",
       "12    ang  \n",
       "27    ang  \n",
       "29    ang  \n",
       "30    sad  \n",
       "31    sad  \n",
       "\n",
       "[5 rows x 51 columns]"
      ]
     },
     "execution_count": 5,
     "metadata": {},
     "output_type": "execute_result"
    }
   ],
   "source": [
    "mfcc_df.head()"
   ]
  },
  {
   "cell_type": "code",
   "execution_count": 6,
   "id": "3a3f09e0",
   "metadata": {},
   "outputs": [
    {
     "data": {
      "text/plain": [
       "3"
      ]
     },
     "execution_count": 6,
     "metadata": {},
     "output_type": "execute_result"
    }
   ],
   "source": [
    "new_lab = mfcc_df['Label']\n",
    "count_lab= len(mfcc_df['Label'].value_counts())\n",
    "count_lab"
   ]
  },
  {
   "cell_type": "code",
   "execution_count": 7,
   "id": "e2c5ddc9",
   "metadata": {},
   "outputs": [],
   "source": [
    "features = mfcc_df.drop(['Label'], axis=1).values\n",
    "lab = mfcc_df['Label'].values\n",
    "\n",
    "# Convert features and corresponding classification labels into numpy arrays\n",
    "X = np.array(features.tolist())\n",
    "y = np.array(lab.tolist())\n",
    "\n",
    "# Encode the classification labels\n",
    "le = LabelEncoder()\n",
    "yy = to_categorical(le.fit_transform(y))"
   ]
  },
  {
   "cell_type": "markdown",
   "id": "83a82b52",
   "metadata": {},
   "source": [
    "### Split the dataset inot train and test set\n"
   ]
  },
  {
   "cell_type": "code",
   "execution_count": 8,
   "id": "4fef57cc",
   "metadata": {},
   "outputs": [],
   "source": [
    "x_train, x_test, y_train, y_test = train_test_split(X, yy, test_size=0.25, random_state = 4)"
   ]
  },
  {
   "cell_type": "code",
   "execution_count": 9,
   "id": "a0895a18",
   "metadata": {},
   "outputs": [
    {
     "name": "stdout",
     "output_type": "stream",
     "text": [
      "(2421, 50)\n",
      "(2421, 3)\n",
      "(807, 50)\n",
      "(807, 3)\n"
     ]
    }
   ],
   "source": [
    "print(x_train.shape)\n",
    "print(y_train.shape)\n",
    "print(x_test.shape)\n",
    "print(y_test.shape)"
   ]
  },
  {
   "cell_type": "code",
   "execution_count": 14,
   "id": "f9f477ba",
   "metadata": {},
   "outputs": [],
   "source": [
    "cnn_mfcc_model = Sequential()\n",
    "cnn_mfcc_model.add(Conv1D(256, 4, padding='same',input_shape=(x_train.shape[1],1)))  # X_train.shape[1] = No. of Columns\n",
    "cnn_mfcc_model.add(Activation('relu'))\n",
    "cnn_mfcc_model.add(Conv1D(256, 4, padding='same'))\n",
    "cnn_mfcc_model.add(BatchNormalization())\n",
    "cnn_mfcc_model.add(Activation('relu'))\n",
    "cnn_mfcc_model.add(Conv1D(64, 4, padding='same'))\n",
    "cnn_mfcc_model.add(Activation('relu'))\n",
    "cnn_mfcc_model.add(Flatten())\n",
    "cnn_mfcc_model.add(Dense(count_lab)) # Target class number\n",
    "cnn_mfcc_model.add(Activation('softmax'))"
   ]
  },
  {
   "cell_type": "code",
   "execution_count": 15,
   "id": "4d695623",
   "metadata": {},
   "outputs": [
    {
     "name": "stdout",
     "output_type": "stream",
     "text": [
      "Model: \"sequential_2\"\n",
      "_________________________________________________________________\n",
      " Layer (type)                Output Shape              Param #   \n",
      "=================================================================\n",
      " conv1d_10 (Conv1D)          (None, 50, 256)           1280      \n",
      "                                                                 \n",
      " activation_12 (Activation)  (None, 50, 256)           0         \n",
      "                                                                 \n",
      " conv1d_11 (Conv1D)          (None, 50, 256)           262400    \n",
      "                                                                 \n",
      " batch_normalization_4 (Batc  (None, 50, 256)          1024      \n",
      " hNormalization)                                                 \n",
      "                                                                 \n",
      " activation_13 (Activation)  (None, 50, 256)           0         \n",
      "                                                                 \n",
      " conv1d_12 (Conv1D)          (None, 50, 64)            65600     \n",
      "                                                                 \n",
      " activation_14 (Activation)  (None, 50, 64)            0         \n",
      "                                                                 \n",
      " flatten_2 (Flatten)         (None, 3200)              0         \n",
      "                                                                 \n",
      " dense_2 (Dense)             (None, 3)                 9603      \n",
      "                                                                 \n",
      " activation_15 (Activation)  (None, 3)                 0         \n",
      "                                                                 \n",
      "=================================================================\n",
      "Total params: 339,907\n",
      "Trainable params: 339,395\n",
      "Non-trainable params: 512\n",
      "_________________________________________________________________\n"
     ]
    }
   ],
   "source": [
    "cnn_mfcc_model.summary()"
   ]
  },
  {
   "cell_type": "code",
   "execution_count": 17,
   "id": "597b609d",
   "metadata": {},
   "outputs": [],
   "source": [
    "cnn_mfcc_model.compile(loss='categorical_crossentropy',\n",
    "             optimizer='adam',\n",
    "              metrics=['accuracy'])"
   ]
  },
  {
   "cell_type": "code",
   "execution_count": 18,
   "id": "ee2456c2",
   "metadata": {
    "scrolled": true
   },
   "outputs": [
    {
     "name": "stdout",
     "output_type": "stream",
     "text": [
      "Epoch 1/50\n",
      "19/19 [==============================] - 14s 641ms/step - loss: 1.2237 - accuracy: 0.4849 - val_loss: 0.8121 - val_accuracy: 0.6022\n",
      "Epoch 2/50\n",
      "19/19 [==============================] - 12s 662ms/step - loss: 0.7174 - accuracy: 0.6687 - val_loss: 0.9811 - val_accuracy: 0.6456\n",
      "Epoch 3/50\n",
      "19/19 [==============================] - 11s 590ms/step - loss: 0.6723 - accuracy: 0.6861 - val_loss: 0.8556 - val_accuracy: 0.6691\n",
      "Epoch 4/50\n",
      "19/19 [==============================] - 12s 653ms/step - loss: 0.6358 - accuracy: 0.7175 - val_loss: 0.8668 - val_accuracy: 0.6629\n",
      "Epoch 5/50\n",
      "19/19 [==============================] - 13s 714ms/step - loss: 0.6155 - accuracy: 0.7295 - val_loss: 0.7979 - val_accuracy: 0.6741\n",
      "Epoch 6/50\n",
      "19/19 [==============================] - 12s 647ms/step - loss: 0.6044 - accuracy: 0.7311 - val_loss: 0.8796 - val_accuracy: 0.6555\n",
      "Epoch 7/50\n",
      "19/19 [==============================] - 12s 628ms/step - loss: 0.6182 - accuracy: 0.7245 - val_loss: 0.7030 - val_accuracy: 0.7014\n",
      "Epoch 8/50\n",
      "19/19 [==============================] - 12s 651ms/step - loss: 0.5756 - accuracy: 0.7513 - val_loss: 0.6926 - val_accuracy: 0.7125\n",
      "Epoch 9/50\n",
      "19/19 [==============================] - 12s 634ms/step - loss: 0.5488 - accuracy: 0.7621 - val_loss: 0.6656 - val_accuracy: 0.7187\n",
      "Epoch 10/50\n",
      "19/19 [==============================] - 14s 720ms/step - loss: 0.5441 - accuracy: 0.7600 - val_loss: 0.6648 - val_accuracy: 0.7187\n",
      "Epoch 11/50\n",
      "19/19 [==============================] - 13s 681ms/step - loss: 0.5391 - accuracy: 0.7666 - val_loss: 0.6432 - val_accuracy: 0.7299\n",
      "Epoch 12/50\n",
      "19/19 [==============================] - 14s 709ms/step - loss: 0.5275 - accuracy: 0.7770 - val_loss: 0.6875 - val_accuracy: 0.6964\n",
      "Epoch 13/50\n",
      "19/19 [==============================] - 12s 660ms/step - loss: 0.5127 - accuracy: 0.7807 - val_loss: 0.6430 - val_accuracy: 0.7249\n",
      "Epoch 14/50\n",
      "19/19 [==============================] - 12s 621ms/step - loss: 0.4858 - accuracy: 0.7964 - val_loss: 0.6336 - val_accuracy: 0.7385\n",
      "Epoch 15/50\n",
      "19/19 [==============================] - 14s 760ms/step - loss: 0.4686 - accuracy: 0.8017 - val_loss: 0.6409 - val_accuracy: 0.7299\n",
      "Epoch 16/50\n",
      "19/19 [==============================] - 12s 625ms/step - loss: 0.4481 - accuracy: 0.8174 - val_loss: 0.6356 - val_accuracy: 0.7497\n",
      "Epoch 17/50\n",
      "19/19 [==============================] - 9s 498ms/step - loss: 0.4380 - accuracy: 0.8178 - val_loss: 0.6446 - val_accuracy: 0.7311\n",
      "Epoch 18/50\n",
      "19/19 [==============================] - 13s 670ms/step - loss: 0.4250 - accuracy: 0.8253 - val_loss: 0.6624 - val_accuracy: 0.7162\n",
      "Epoch 19/50\n",
      "19/19 [==============================] - 10s 523ms/step - loss: 0.4432 - accuracy: 0.8083 - val_loss: 0.6469 - val_accuracy: 0.7311\n",
      "Epoch 20/50\n",
      "19/19 [==============================] - 11s 564ms/step - loss: 0.4246 - accuracy: 0.8203 - val_loss: 0.6899 - val_accuracy: 0.7187\n",
      "Epoch 21/50\n",
      "19/19 [==============================] - 13s 678ms/step - loss: 0.4088 - accuracy: 0.8290 - val_loss: 0.6758 - val_accuracy: 0.7423\n",
      "Epoch 22/50\n",
      "19/19 [==============================] - 12s 657ms/step - loss: 0.3870 - accuracy: 0.8430 - val_loss: 0.7104 - val_accuracy: 0.7274\n",
      "Epoch 23/50\n",
      "19/19 [==============================] - 12s 659ms/step - loss: 0.3827 - accuracy: 0.8496 - val_loss: 0.7260 - val_accuracy: 0.7088\n",
      "Epoch 24/50\n",
      "19/19 [==============================] - 12s 652ms/step - loss: 0.3646 - accuracy: 0.8451 - val_loss: 0.7072 - val_accuracy: 0.7348\n",
      "Epoch 25/50\n",
      "19/19 [==============================] - 12s 655ms/step - loss: 0.3288 - accuracy: 0.8711 - val_loss: 0.6860 - val_accuracy: 0.7336\n",
      "Epoch 26/50\n",
      "19/19 [==============================] - 13s 687ms/step - loss: 0.3013 - accuracy: 0.8860 - val_loss: 0.7354 - val_accuracy: 0.7348\n",
      "Epoch 27/50\n",
      "19/19 [==============================] - 12s 643ms/step - loss: 0.2950 - accuracy: 0.8852 - val_loss: 0.7218 - val_accuracy: 0.7385\n",
      "Epoch 28/50\n",
      "19/19 [==============================] - 12s 632ms/step - loss: 0.2707 - accuracy: 0.9000 - val_loss: 0.7449 - val_accuracy: 0.7410\n",
      "Epoch 29/50\n",
      "19/19 [==============================] - 13s 697ms/step - loss: 0.2788 - accuracy: 0.8926 - val_loss: 0.7558 - val_accuracy: 0.7336\n",
      "Epoch 30/50\n",
      "19/19 [==============================] - 12s 616ms/step - loss: 0.2637 - accuracy: 0.9005 - val_loss: 0.7735 - val_accuracy: 0.7447\n",
      "Epoch 31/50\n",
      "19/19 [==============================] - 13s 676ms/step - loss: 0.2350 - accuracy: 0.9137 - val_loss: 0.8242 - val_accuracy: 0.7323\n",
      "Epoch 32/50\n",
      "19/19 [==============================] - 12s 650ms/step - loss: 0.2278 - accuracy: 0.9174 - val_loss: 0.8419 - val_accuracy: 0.7336\n",
      "Epoch 33/50\n",
      "19/19 [==============================] - 13s 677ms/step - loss: 0.2162 - accuracy: 0.9265 - val_loss: 0.8320 - val_accuracy: 0.7336\n",
      "Epoch 34/50\n",
      "19/19 [==============================] - 13s 705ms/step - loss: 0.2123 - accuracy: 0.9269 - val_loss: 0.8997 - val_accuracy: 0.7274\n",
      "Epoch 35/50\n",
      "19/19 [==============================] - 12s 643ms/step - loss: 0.2060 - accuracy: 0.9219 - val_loss: 0.8810 - val_accuracy: 0.7150\n",
      "Epoch 36/50\n",
      "19/19 [==============================] - 13s 668ms/step - loss: 0.1989 - accuracy: 0.9273 - val_loss: 0.9178 - val_accuracy: 0.7348\n",
      "Epoch 37/50\n",
      "19/19 [==============================] - 13s 724ms/step - loss: 0.1712 - accuracy: 0.9442 - val_loss: 0.9451 - val_accuracy: 0.7323\n",
      "Epoch 38/50\n",
      "19/19 [==============================] - 13s 666ms/step - loss: 0.1519 - accuracy: 0.9508 - val_loss: 0.9205 - val_accuracy: 0.7385\n",
      "Epoch 39/50\n",
      "19/19 [==============================] - 12s 645ms/step - loss: 0.1437 - accuracy: 0.9542 - val_loss: 0.9617 - val_accuracy: 0.7212\n",
      "Epoch 40/50\n",
      "19/19 [==============================] - 12s 631ms/step - loss: 0.1304 - accuracy: 0.9612 - val_loss: 0.9532 - val_accuracy: 0.7286\n",
      "Epoch 41/50\n",
      "19/19 [==============================] - 12s 624ms/step - loss: 0.1260 - accuracy: 0.9641 - val_loss: 0.9862 - val_accuracy: 0.7224\n",
      "Epoch 42/50\n",
      "19/19 [==============================] - 12s 640ms/step - loss: 0.1084 - accuracy: 0.9707 - val_loss: 1.0382 - val_accuracy: 0.7299\n",
      "Epoch 43/50\n",
      "19/19 [==============================] - 11s 601ms/step - loss: 0.0931 - accuracy: 0.9835 - val_loss: 1.0560 - val_accuracy: 0.7311\n",
      "Epoch 44/50\n",
      "19/19 [==============================] - 12s 644ms/step - loss: 0.0960 - accuracy: 0.9756 - val_loss: 1.0739 - val_accuracy: 0.7361\n",
      "Epoch 45/50\n",
      "19/19 [==============================] - 12s 625ms/step - loss: 0.0907 - accuracy: 0.9781 - val_loss: 1.0474 - val_accuracy: 0.7385\n",
      "Epoch 46/50\n",
      "19/19 [==============================] - 11s 602ms/step - loss: 0.0868 - accuracy: 0.9802 - val_loss: 1.0925 - val_accuracy: 0.7261\n",
      "Epoch 47/50\n",
      "19/19 [==============================] - 12s 624ms/step - loss: 0.0839 - accuracy: 0.9765 - val_loss: 1.1513 - val_accuracy: 0.7286\n",
      "Epoch 48/50\n",
      "19/19 [==============================] - 12s 635ms/step - loss: 0.0663 - accuracy: 0.9884 - val_loss: 1.1537 - val_accuracy: 0.7336\n",
      "Epoch 49/50\n",
      "19/19 [==============================] - 12s 631ms/step - loss: 0.0559 - accuracy: 0.9917 - val_loss: 1.1714 - val_accuracy: 0.7323\n",
      "Epoch 50/50\n",
      "19/19 [==============================] - 12s 612ms/step - loss: 0.0466 - accuracy: 0.9946 - val_loss: 1.1703 - val_accuracy: 0.7323\n"
     ]
    }
   ],
   "source": [
    "num_epochs = 50\n",
    "num_batch_size = 128\n",
    "\n",
    "mfcc_his=cnn_mfcc_model.fit(x_train, y_train, batch_size=num_batch_size, epochs=num_epochs, validation_data=(x_test, y_test), verbose=1)"
   ]
  },
  {
   "cell_type": "markdown",
   "id": "8ea60add",
   "metadata": {},
   "source": [
    "### Evaluating the model on the training and testing set\n"
   ]
  },
  {
   "cell_type": "code",
   "execution_count": 22,
   "id": "4dd9b66e",
   "metadata": {},
   "outputs": [
    {
     "name": "stdout",
     "output_type": "stream",
     "text": [
      "Training Accuracy: 99.83%\n",
      "Testing Accuracy: 73.23%\n"
     ]
    }
   ],
   "source": [
    "# Evaluating the model on the training and testing set\n",
    "mfccscore = cnn_mfcc_model.evaluate(x_train, y_train, verbose=0)\n",
    "print(\"Training Accuracy: {0:.2%}\".format(mfccscore[1]))\n",
    "\n",
    "mfccscore = cnn_mfcc_model.evaluate(x_test, y_test, verbose=0)\n",
    "print(\"Testing Accuracy: {0:.2%}\".format(mfccscore[1]))"
   ]
  },
  {
   "cell_type": "code",
   "execution_count": 23,
   "id": "31f8ffdf",
   "metadata": {},
   "outputs": [
    {
     "data": {
      "image/png": "[encoded data removed]",
      "text/plain": [
       "<Figure size 640x480 with 1 Axes>"
      ]
     },
     "metadata": {},
     "output_type": "display_data"
    }
   ],
   "source": [
    "plt.plot(mfcc_his.history['accuracy'])\n",
    "plt.plot(mfcc_his.history['val_accuracy'])\n",
    "plt.title('MFCC CNN Model Accuracy')\n",
    "plt.xlabel('Epoch')\n",
    "plt.ylabel('Accuracy')\n",
    "plt.legend(['Train', 'Test'], loc='upper left')\n",
    "plt.show()"
   ]
  },
  {
   "cell_type": "code",
   "execution_count": 24,
   "id": "ae03df69",
   "metadata": {},
   "outputs": [
    {
     "data": {
      "image/png": "[encoded data removed]",
      "text/plain": [
       "<Figure size 640x480 with 1 Axes>"
      ]
     },
     "metadata": {},
     "output_type": "display_data"
    }
   ],
   "source": [
    "plt.plot(mfcc_his.history['loss'])\n",
    "plt.plot(mfcc_his.history['val_loss'])\n",
    "plt.title('MFCC CNN Model Loss')\n",
    "plt.xlabel('Epoch')\n",
    "plt.ylabel('Loss')\n",
    "plt.legend(['Train', 'Test'], loc='upper left')\n",
    "plt.show()"
   ]
  },
  {
   "cell_type": "markdown",
   "id": "d35ddc0a",
   "metadata": {},
   "source": [
    "## PCP Feature"
   ]
  },
  {
   "cell_type": "code",
   "execution_count": 25,
   "id": "03a30712",
   "metadata": {},
   "outputs": [],
   "source": [
    "pcp_df = pd.read_csv('../../../Data/Features/PCP_Data.csv',index_col=0)"
   ]
  },
  {
   "cell_type": "code",
   "execution_count": 26,
   "id": "d6875203",
   "metadata": {},
   "outputs": [
    {
     "data": {
      "text/html": [
       "<div>\n",
       "<style scoped>\n",
       "    .dataframe tbody tr th:only-of-type {\n",
       "        vertical-align: middle;\n",
       "    }\n",
       "\n",
       "    .dataframe tbody tr th {\n",
       "        vertical-align: top;\n",
       "    }\n",
       "\n",
       "    .dataframe thead th {\n",
       "        text-align: right;\n",
       "    }\n",
       "</style>\n",
       "<table border=\"1\" class=\"dataframe\">\n",
       "  <thead>\n",
       "    <tr style=\"text-align: right;\">\n",
       "      <th></th>\n",
       "      <th>PCP1</th>\n",
       "      <th>PCP2</th>\n",
       "      <th>PCP3</th>\n",
       "      <th>PCP4</th>\n",
       "      <th>PCP5</th>\n",
       "      <th>PCP6</th>\n",
       "      <th>PCP7</th>\n",
       "      <th>PCP8</th>\n",
       "      <th>PCP9</th>\n",
       "      <th>PCP10</th>\n",
       "      <th>PCP11</th>\n",
       "      <th>PCP12</th>\n",
       "      <th>Label</th>\n",
       "    </tr>\n",
       "  </thead>\n",
       "  <tbody>\n",
       "    <tr>\n",
       "      <th>12</th>\n",
       "      <td>0.468665</td>\n",
       "      <td>0.418584</td>\n",
       "      <td>0.470229</td>\n",
       "      <td>0.402123</td>\n",
       "      <td>0.438475</td>\n",
       "      <td>0.465702</td>\n",
       "      <td>0.430603</td>\n",
       "      <td>0.472777</td>\n",
       "      <td>0.384107</td>\n",
       "      <td>0.399642</td>\n",
       "      <td>0.339348</td>\n",
       "      <td>0.520844</td>\n",
       "      <td>ang</td>\n",
       "    </tr>\n",
       "    <tr>\n",
       "      <th>27</th>\n",
       "      <td>0.463213</td>\n",
       "      <td>0.431536</td>\n",
       "      <td>0.431190</td>\n",
       "      <td>0.410230</td>\n",
       "      <td>0.384602</td>\n",
       "      <td>0.391240</td>\n",
       "      <td>0.444501</td>\n",
       "      <td>0.380445</td>\n",
       "      <td>0.379131</td>\n",
       "      <td>0.423372</td>\n",
       "      <td>0.379215</td>\n",
       "      <td>0.408315</td>\n",
       "      <td>ang</td>\n",
       "    </tr>\n",
       "    <tr>\n",
       "      <th>29</th>\n",
       "      <td>0.393176</td>\n",
       "      <td>0.394829</td>\n",
       "      <td>0.384227</td>\n",
       "      <td>0.407025</td>\n",
       "      <td>0.433312</td>\n",
       "      <td>0.394724</td>\n",
       "      <td>0.341926</td>\n",
       "      <td>0.305187</td>\n",
       "      <td>0.309041</td>\n",
       "      <td>0.324220</td>\n",
       "      <td>0.306156</td>\n",
       "      <td>0.315559</td>\n",
       "      <td>ang</td>\n",
       "    </tr>\n",
       "    <tr>\n",
       "      <th>30</th>\n",
       "      <td>0.546842</td>\n",
       "      <td>0.518859</td>\n",
       "      <td>0.569832</td>\n",
       "      <td>0.522063</td>\n",
       "      <td>0.484166</td>\n",
       "      <td>0.571499</td>\n",
       "      <td>0.470337</td>\n",
       "      <td>0.477768</td>\n",
       "      <td>0.473719</td>\n",
       "      <td>0.458764</td>\n",
       "      <td>0.482684</td>\n",
       "      <td>0.630568</td>\n",
       "      <td>sad</td>\n",
       "    </tr>\n",
       "    <tr>\n",
       "      <th>31</th>\n",
       "      <td>0.690118</td>\n",
       "      <td>0.551490</td>\n",
       "      <td>0.515464</td>\n",
       "      <td>0.597981</td>\n",
       "      <td>0.554355</td>\n",
       "      <td>0.688720</td>\n",
       "      <td>0.588746</td>\n",
       "      <td>0.407920</td>\n",
       "      <td>0.408882</td>\n",
       "      <td>0.432478</td>\n",
       "      <td>0.442955</td>\n",
       "      <td>0.572069</td>\n",
       "      <td>sad</td>\n",
       "    </tr>\n",
       "  </tbody>\n",
       "</table>\n",
       "</div>"
      ],
      "text/plain": [
       "        PCP1      PCP2      PCP3      PCP4      PCP5      PCP6      PCP7  \\\n",
       "12  0.468665  0.418584  0.470229  0.402123  0.438475  0.465702  0.430603   \n",
       "27  0.463213  0.431536  0.431190  0.410230  0.384602  0.391240  0.444501   \n",
       "29  0.393176  0.394829  0.384227  0.407025  0.433312  0.394724  0.341926   \n",
       "30  0.546842  0.518859  0.569832  0.522063  0.484166  0.571499  0.470337   \n",
       "31  0.690118  0.551490  0.515464  0.597981  0.554355  0.688720  0.588746   \n",
       "\n",
       "        PCP8      PCP9     PCP10     PCP11     PCP12 Label  \n",
       "12  0.472777  0.384107  0.399642  0.339348  0.520844   ang  \n",
       "27  0.380445  0.379131  0.423372  0.379215  0.408315   ang  \n",
       "29  0.305187  0.309041  0.324220  0.306156  0.315559   ang  \n",
       "30  0.477768  0.473719  0.458764  0.482684  0.630568   sad  \n",
       "31  0.407920  0.408882  0.432478  0.442955  0.572069   sad  "
      ]
     },
     "execution_count": 26,
     "metadata": {},
     "output_type": "execute_result"
    }
   ],
   "source": [
    "pcp_df.head()"
   ]
  },
  {
   "cell_type": "markdown",
   "id": "d6f53832",
   "metadata": {},
   "source": [
    "### Extract features and Labels"
   ]
  },
  {
   "cell_type": "code",
   "execution_count": 27,
   "id": "bbc72f90",
   "metadata": {},
   "outputs": [],
   "source": [
    "pcpf = pcp_df.drop(['Label'], axis=1).values\n",
    "pcp_lab = pcp_df['Label'].values\n",
    "count= len(pcp_lab)"
   ]
  },
  {
   "cell_type": "markdown",
   "id": "85ac8979",
   "metadata": {},
   "source": [
    "### Convert features and corresponding classification labels into numpy arrays"
   ]
  },
  {
   "cell_type": "code",
   "execution_count": 28,
   "id": "085e1555",
   "metadata": {},
   "outputs": [],
   "source": [
    "X_pcp = np.array(pcpf.tolist())\n",
    "y_pcp = np.array(pcp_lab.tolist())"
   ]
  },
  {
   "cell_type": "markdown",
   "id": "583c2896",
   "metadata": {},
   "source": [
    "### Encode the classification labels"
   ]
  },
  {
   "cell_type": "code",
   "execution_count": 29,
   "id": "d612be5e",
   "metadata": {},
   "outputs": [],
   "source": [
    "label_encoder = LabelEncoder()\n",
    "encoded_labels = label_encoder.fit_transform(y_pcp)\n",
    "encoded_labels = to_categorical(encoded_labels)"
   ]
  },
  {
   "cell_type": "markdown",
   "id": "71c35e61",
   "metadata": {},
   "source": [
    "### Split dataset into training and testing"
   ]
  },
  {
   "cell_type": "code",
   "execution_count": 30,
   "id": "64d839e6",
   "metadata": {},
   "outputs": [],
   "source": [
    "X_train, X_test, y_train, y_test = train_test_split(X_pcp, encoded_labels, test_size=0.2, random_state=21)"
   ]
  },
  {
   "cell_type": "code",
   "execution_count": 31,
   "id": "8abdc8cb",
   "metadata": {},
   "outputs": [
    {
     "name": "stdout",
     "output_type": "stream",
     "text": [
      "(2421, 50)\n",
      "(2582, 3)\n",
      "(807, 50)\n",
      "(646, 3)\n"
     ]
    }
   ],
   "source": [
    "print(x_train.shape)\n",
    "print(y_train.shape)\n",
    "print(x_test.shape)\n",
    "print(y_test.shape)"
   ]
  },
  {
   "cell_type": "code",
   "execution_count": 32,
   "id": "c4d1969d",
   "metadata": {},
   "outputs": [],
   "source": [
    "pcp_cnn_model=Sequential()\n",
    "###first layer\n",
    "pcp_cnn_model.add(Dense(100,input_shape=(12,)))\n",
    "pcp_cnn_model.add(Activation('relu'))\n",
    "pcp_cnn_model.add(Dropout(0.5))\n",
    "###second layer\n",
    "pcp_cnn_model.add(Dense(200))\n",
    "pcp_cnn_model.add(Activation('relu'))\n",
    "pcp_cnn_model.add(Dropout(0.5))\n",
    "###third layer\n",
    "pcp_cnn_model.add(Dense(100))\n",
    "pcp_cnn_model.add(Activation('relu'))\n",
    "pcp_cnn_model.add(Dropout(0.5))\n",
    "\n",
    "###final layer\n",
    "pcp_cnn_model.add(Dense(len(label_encoder.classes_)))\n",
    "pcp_cnn_model.add(Activation('softmax'))"
   ]
  },
  {
   "cell_type": "code",
   "execution_count": 33,
   "id": "de785c42",
   "metadata": {},
   "outputs": [],
   "source": [
    "pcp_cnn_model.compile(loss='categorical_crossentropy',metrics=['accuracy'],optimizer='adam')\n"
   ]
  },
  {
   "cell_type": "code",
   "execution_count": 34,
   "id": "9008b880",
   "metadata": {},
   "outputs": [
    {
     "name": "stdout",
     "output_type": "stream",
     "text": [
      "Epoch 1/30\n",
      "81/81 [==============================] - 3s 10ms/step - loss: 1.0953 - accuracy: 0.3505 - val_loss: 1.0741 - val_accuracy: 0.4830\n",
      "Epoch 2/30\n",
      "81/81 [==============================] - 0s 6ms/step - loss: 1.0661 - accuracy: 0.4140 - val_loss: 1.0099 - val_accuracy: 0.5294\n",
      "Epoch 3/30\n",
      "81/81 [==============================] - 1s 6ms/step - loss: 1.0217 - accuracy: 0.4702 - val_loss: 0.9410 - val_accuracy: 0.5248\n",
      "Epoch 4/30\n",
      "81/81 [==============================] - 1s 6ms/step - loss: 0.9866 - accuracy: 0.4853 - val_loss: 0.9135 - val_accuracy: 0.5418\n",
      "Epoch 5/30\n",
      "81/81 [==============================] - 1s 7ms/step - loss: 0.9495 - accuracy: 0.5132 - val_loss: 0.8916 - val_accuracy: 0.5464\n",
      "Epoch 6/30\n",
      "81/81 [==============================] - 1s 7ms/step - loss: 0.9494 - accuracy: 0.4961 - val_loss: 0.8867 - val_accuracy: 0.5635\n",
      "Epoch 7/30\n",
      "81/81 [==============================] - 0s 6ms/step - loss: 0.9378 - accuracy: 0.5182 - val_loss: 0.8801 - val_accuracy: 0.5433\n",
      "Epoch 8/30\n",
      "81/81 [==============================] - 0s 6ms/step - loss: 0.9385 - accuracy: 0.5136 - val_loss: 0.9016 - val_accuracy: 0.5464\n",
      "Epoch 9/30\n",
      "81/81 [==============================] - 1s 7ms/step - loss: 0.9384 - accuracy: 0.5081 - val_loss: 0.8793 - val_accuracy: 0.5588\n",
      "Epoch 10/30\n",
      "81/81 [==============================] - 0s 6ms/step - loss: 0.9226 - accuracy: 0.5318 - val_loss: 0.8756 - val_accuracy: 0.5155\n",
      "Epoch 11/30\n",
      "81/81 [==============================] - 0s 6ms/step - loss: 0.9216 - accuracy: 0.5205 - val_loss: 0.8738 - val_accuracy: 0.5588\n",
      "Epoch 12/30\n",
      "81/81 [==============================] - 0s 5ms/step - loss: 0.9242 - accuracy: 0.5318 - val_loss: 0.8660 - val_accuracy: 0.5681\n",
      "Epoch 13/30\n",
      "81/81 [==============================] - 0s 6ms/step - loss: 0.9222 - accuracy: 0.5360 - val_loss: 0.8653 - val_accuracy: 0.5666\n",
      "Epoch 14/30\n",
      "81/81 [==============================] - 0s 5ms/step - loss: 0.9238 - accuracy: 0.5321 - val_loss: 0.8631 - val_accuracy: 0.5418\n",
      "Epoch 15/30\n",
      "81/81 [==============================] - 1s 9ms/step - loss: 0.9117 - accuracy: 0.5244 - val_loss: 0.8498 - val_accuracy: 0.5650\n",
      "Epoch 16/30\n",
      "81/81 [==============================] - 0s 6ms/step - loss: 0.9129 - accuracy: 0.5360 - val_loss: 0.8553 - val_accuracy: 0.5759\n",
      "Epoch 17/30\n",
      "81/81 [==============================] - 0s 5ms/step - loss: 0.9096 - accuracy: 0.5329 - val_loss: 0.8557 - val_accuracy: 0.5635\n",
      "Epoch 18/30\n",
      "81/81 [==============================] - 0s 6ms/step - loss: 0.9042 - accuracy: 0.5349 - val_loss: 0.8534 - val_accuracy: 0.5681\n",
      "Epoch 19/30\n",
      "81/81 [==============================] - 0s 5ms/step - loss: 0.9124 - accuracy: 0.5290 - val_loss: 0.8562 - val_accuracy: 0.5573\n",
      "Epoch 20/30\n",
      "81/81 [==============================] - 0s 5ms/step - loss: 0.9067 - accuracy: 0.5333 - val_loss: 0.8548 - val_accuracy: 0.5372\n",
      "Epoch 21/30\n",
      "81/81 [==============================] - 0s 5ms/step - loss: 0.9078 - accuracy: 0.5345 - val_loss: 0.8730 - val_accuracy: 0.5604\n",
      "Epoch 22/30\n",
      "81/81 [==============================] - 1s 6ms/step - loss: 0.9133 - accuracy: 0.5391 - val_loss: 0.8641 - val_accuracy: 0.5712\n",
      "Epoch 23/30\n",
      "81/81 [==============================] - 1s 6ms/step - loss: 0.9061 - accuracy: 0.5438 - val_loss: 0.8548 - val_accuracy: 0.5588\n",
      "Epoch 24/30\n",
      "81/81 [==============================] - 1s 7ms/step - loss: 0.9066 - accuracy: 0.5387 - val_loss: 0.8493 - val_accuracy: 0.5728\n",
      "Epoch 25/30\n",
      "81/81 [==============================] - 1s 7ms/step - loss: 0.9086 - accuracy: 0.5306 - val_loss: 0.8510 - val_accuracy: 0.5805\n",
      "Epoch 26/30\n",
      "81/81 [==============================] - 1s 6ms/step - loss: 0.9073 - accuracy: 0.5442 - val_loss: 0.8533 - val_accuracy: 0.5619\n",
      "Epoch 27/30\n",
      "81/81 [==============================] - 1s 6ms/step - loss: 0.9005 - accuracy: 0.5465 - val_loss: 0.8602 - val_accuracy: 0.5712\n",
      "Epoch 28/30\n",
      "81/81 [==============================] - 0s 5ms/step - loss: 0.8965 - accuracy: 0.5554 - val_loss: 0.8490 - val_accuracy: 0.5759\n",
      "Epoch 29/30\n",
      "81/81 [==============================] - 1s 6ms/step - loss: 0.8931 - accuracy: 0.5414 - val_loss: 0.8543 - val_accuracy: 0.5480\n",
      "Epoch 30/30\n",
      "81/81 [==============================] - 1s 7ms/step - loss: 0.9042 - accuracy: 0.5430 - val_loss: 0.8497 - val_accuracy: 0.5712\n"
     ]
    }
   ],
   "source": [
    "pcp_his = pcp_cnn_model.fit(X_train, y_train,epochs=30, validation_data=(X_test, y_test), verbose=1)"
   ]
  },
  {
   "cell_type": "markdown",
   "id": "9497f540",
   "metadata": {},
   "source": [
    "### Evaluating the model on the training and testing set\n"
   ]
  },
  {
   "cell_type": "code",
   "execution_count": 35,
   "id": "4a0190c0",
   "metadata": {},
   "outputs": [
    {
     "name": "stdout",
     "output_type": "stream",
     "text": [
      "Training Accuracy: 56.35%\n",
      "Testing Accuracy: 57.12%\n"
     ]
    }
   ],
   "source": [
    "pcpscore = pcp_cnn_model.evaluate(X_train, y_train, verbose=0)\n",
    "print(\"Training Accuracy: {0:.2%}\".format(pcpscore[1]))\n",
    "\n",
    "pcpscore = pcp_cnn_model.evaluate(X_test, y_test, verbose=0)\n",
    "print(\"Testing Accuracy: {0:.2%}\".format(pcpscore[1]))"
   ]
  },
  {
   "cell_type": "code",
   "execution_count": 36,
   "id": "4423c66c",
   "metadata": {},
   "outputs": [
    {
     "data": {
      "image/png": "[encoded data removed]",
      "text/plain": [
       "<Figure size 640x480 with 1 Axes>"
      ]
     },
     "metadata": {},
     "output_type": "display_data"
    }
   ],
   "source": [
    "plt.plot(pcp_his.history['accuracy'])\n",
    "plt.plot(pcp_his.history['val_accuracy'])\n",
    "plt.title('PCP CNN Model Accuracy')\n",
    "plt.xlabel('Epoch')\n",
    "plt.ylabel('Accuracy')\n",
    "plt.legend(['Train', 'Test'], loc='upper left')\n",
    "plt.show()"
   ]
  },
  {
   "cell_type": "code",
   "execution_count": 37,
   "id": "02d49074",
   "metadata": {},
   "outputs": [
    {
     "data": {
      "image/png": "[encoded data removed]",
      "text/plain": [
       "<Figure size 640x480 with 1 Axes>"
      ]
     },
     "metadata": {},
     "output_type": "display_data"
    }
   ],
   "source": [
    "plt.plot(pcp_his.history['loss'])\n",
    "plt.plot(pcp_his.history['val_loss'])\n",
    "plt.title('PCP CNN Model Loss')\n",
    "plt.xlabel('Epoch')\n",
    "plt.ylabel('Loss')\n",
    "plt.legend(['Train', 'Test'], loc='upper left')\n",
    "plt.show()"
   ]
  },
  {
   "cell_type": "markdown",
   "id": "52eafa6e",
   "metadata": {},
   "source": [
    "## LCP Feature"
   ]
  },
  {
   "cell_type": "code",
   "execution_count": 38,
   "id": "44afe67d",
   "metadata": {},
   "outputs": [],
   "source": [
    "df_lcpp = pd.read_csv('../../../Data/Features/LCP_data.csv',index_col=0)"
   ]
  },
  {
   "cell_type": "code",
   "execution_count": 39,
   "id": "8014ce17",
   "metadata": {},
   "outputs": [
    {
     "data": {
      "text/html": [
       "<div>\n",
       "<style scoped>\n",
       "    .dataframe tbody tr th:only-of-type {\n",
       "        vertical-align: middle;\n",
       "    }\n",
       "\n",
       "    .dataframe tbody tr th {\n",
       "        vertical-align: top;\n",
       "    }\n",
       "\n",
       "    .dataframe thead th {\n",
       "        text-align: right;\n",
       "    }\n",
       "</style>\n",
       "<table border=\"1\" class=\"dataframe\">\n",
       "  <thead>\n",
       "    <tr style=\"text-align: right;\">\n",
       "      <th></th>\n",
       "      <th>LCP1</th>\n",
       "      <th>LCP2</th>\n",
       "      <th>LCP3</th>\n",
       "      <th>LCP4</th>\n",
       "      <th>LCP5</th>\n",
       "      <th>LCP6</th>\n",
       "      <th>LCP7</th>\n",
       "      <th>LCP8</th>\n",
       "      <th>LCP9</th>\n",
       "      <th>LCP10</th>\n",
       "      <th>LCP11</th>\n",
       "      <th>Label</th>\n",
       "    </tr>\n",
       "  </thead>\n",
       "  <tbody>\n",
       "    <tr>\n",
       "      <th>12</th>\n",
       "      <td>1.0</td>\n",
       "      <td>-4.620619</td>\n",
       "      <td>11.216498</td>\n",
       "      <td>-18.965210</td>\n",
       "      <td>24.804852</td>\n",
       "      <td>-26.135841</td>\n",
       "      <td>22.393353</td>\n",
       "      <td>-15.348988</td>\n",
       "      <td>8.033380</td>\n",
       "      <td>-2.891480</td>\n",
       "      <td>0.543560</td>\n",
       "      <td>ang</td>\n",
       "    </tr>\n",
       "    <tr>\n",
       "      <th>27</th>\n",
       "      <td>1.0</td>\n",
       "      <td>-4.243772</td>\n",
       "      <td>9.878223</td>\n",
       "      <td>-16.549742</td>\n",
       "      <td>21.832207</td>\n",
       "      <td>-23.426395</td>\n",
       "      <td>20.516266</td>\n",
       "      <td>-14.562426</td>\n",
       "      <td>8.120422</td>\n",
       "      <td>-3.267545</td>\n",
       "      <td>0.721418</td>\n",
       "      <td>ang</td>\n",
       "    </tr>\n",
       "    <tr>\n",
       "      <th>29</th>\n",
       "      <td>1.0</td>\n",
       "      <td>-4.550903</td>\n",
       "      <td>10.997309</td>\n",
       "      <td>-18.775156</td>\n",
       "      <td>24.923088</td>\n",
       "      <td>-26.633648</td>\n",
       "      <td>23.093740</td>\n",
       "      <td>-16.064710</td>\n",
       "      <td>8.651243</td>\n",
       "      <td>-3.271798</td>\n",
       "      <td>0.654612</td>\n",
       "      <td>ang</td>\n",
       "    </tr>\n",
       "    <tr>\n",
       "      <th>30</th>\n",
       "      <td>1.0</td>\n",
       "      <td>50.537933</td>\n",
       "      <td>-286.185970</td>\n",
       "      <td>745.173340</td>\n",
       "      <td>-1258.394200</td>\n",
       "      <td>1555.833300</td>\n",
       "      <td>-1455.320100</td>\n",
       "      <td>1020.872900</td>\n",
       "      <td>-502.843230</td>\n",
       "      <td>140.464550</td>\n",
       "      <td>-10.920460</td>\n",
       "      <td>sad</td>\n",
       "    </tr>\n",
       "    <tr>\n",
       "      <th>31</th>\n",
       "      <td>1.0</td>\n",
       "      <td>125.109380</td>\n",
       "      <td>-540.967000</td>\n",
       "      <td>1161.417100</td>\n",
       "      <td>-1682.114900</td>\n",
       "      <td>1787.451500</td>\n",
       "      <td>-1398.142600</td>\n",
       "      <td>757.090600</td>\n",
       "      <td>-213.570710</td>\n",
       "      <td>-31.442951</td>\n",
       "      <td>34.692960</td>\n",
       "      <td>sad</td>\n",
       "    </tr>\n",
       "  </tbody>\n",
       "</table>\n",
       "</div>"
      ],
      "text/plain": [
       "    LCP1        LCP2        LCP3         LCP4         LCP5         LCP6  \\\n",
       "12   1.0   -4.620619   11.216498   -18.965210    24.804852   -26.135841   \n",
       "27   1.0   -4.243772    9.878223   -16.549742    21.832207   -23.426395   \n",
       "29   1.0   -4.550903   10.997309   -18.775156    24.923088   -26.633648   \n",
       "30   1.0   50.537933 -286.185970   745.173340 -1258.394200  1555.833300   \n",
       "31   1.0  125.109380 -540.967000  1161.417100 -1682.114900  1787.451500   \n",
       "\n",
       "           LCP7         LCP8        LCP9       LCP10      LCP11 Label  \n",
       "12    22.393353   -15.348988    8.033380   -2.891480   0.543560   ang  \n",
       "27    20.516266   -14.562426    8.120422   -3.267545   0.721418   ang  \n",
       "29    23.093740   -16.064710    8.651243   -3.271798   0.654612   ang  \n",
       "30 -1455.320100  1020.872900 -502.843230  140.464550 -10.920460   sad  \n",
       "31 -1398.142600   757.090600 -213.570710  -31.442951  34.692960   sad  "
      ]
     },
     "execution_count": 39,
     "metadata": {},
     "output_type": "execute_result"
    }
   ],
   "source": [
    "df_lcpp.head()"
   ]
  },
  {
   "cell_type": "code",
   "execution_count": 40,
   "id": "29e29e7e",
   "metadata": {},
   "outputs": [
    {
     "data": {
      "text/plain": [
       "(3228, 12)"
      ]
     },
     "execution_count": 40,
     "metadata": {},
     "output_type": "execute_result"
    }
   ],
   "source": [
    "df_lcpp.shape"
   ]
  },
  {
   "cell_type": "markdown",
   "id": "8e04de08",
   "metadata": {},
   "source": [
    "### Extract features and Labels"
   ]
  },
  {
   "cell_type": "code",
   "execution_count": 48,
   "id": "c16651a5",
   "metadata": {},
   "outputs": [],
   "source": [
    "lcpf = df_lcpp.drop(['Label'], axis=1).values\n",
    "lcp_lab = df_lcpp['Label'].values\n",
    "lcpcount= len(lcp_lab)"
   ]
  },
  {
   "cell_type": "markdown",
   "id": "d234353a",
   "metadata": {},
   "source": [
    "### Convert features and corresponding classification labels into numpy arrays"
   ]
  },
  {
   "cell_type": "code",
   "execution_count": 49,
   "id": "b2fb89cf",
   "metadata": {},
   "outputs": [],
   "source": [
    "X_lcp = np.array(lcpf.tolist())\n",
    "y_lcp = np.array(lcp_lab.tolist())"
   ]
  },
  {
   "cell_type": "markdown",
   "id": "5a86823d",
   "metadata": {},
   "source": [
    "### Encode the classification labels"
   ]
  },
  {
   "cell_type": "code",
   "execution_count": 50,
   "id": "25b498d8",
   "metadata": {},
   "outputs": [],
   "source": [
    "label_encoder = LabelEncoder()\n",
    "encoded_labels_lcp = label_encoder.fit_transform(y_lcp)\n",
    "encoded_labels_lcp = to_categorical(encoded_labels_lcp)"
   ]
  },
  {
   "cell_type": "markdown",
   "id": "9b2c827e",
   "metadata": {},
   "source": [
    "### Split data inot training and testing set"
   ]
  },
  {
   "cell_type": "code",
   "execution_count": 59,
   "id": "6cd305ea",
   "metadata": {},
   "outputs": [],
   "source": [
    "X_train, X_test, y_train, y_test = train_test_split(X_lcp, encoded_labels_lcp, test_size=0.2, random_state=21)"
   ]
  },
  {
   "cell_type": "code",
   "execution_count": 70,
   "id": "94efaa93",
   "metadata": {},
   "outputs": [],
   "source": [
    "lcp_model=Sequential()\n",
    "###first layer\n",
    "lcp_model.add(Dense(100,input_shape=(11,)))\n",
    "lcp_model.add(Activation('relu'))\n",
    "lcp_model.add(Dropout(0.5))\n",
    "###second layer\n",
    "lcp_model.add(Dense(200))\n",
    "lcp_model.add(Activation('relu'))\n",
    "lcp_model.add(Dropout(0.5))\n",
    "###third layer\n",
    "lcp_model.add(Dense(100))\n",
    "lcp_model.add(Activation('relu'))\n",
    "lcp_model.add(Dropout(0.5))\n",
    "\n",
    "###final layer\n",
    "lcp_model.add(Dense(len(label_encoder.classes_)))\n",
    "lcp_model.add(Activation('softmax'))"
   ]
  },
  {
   "cell_type": "code",
   "execution_count": 78,
   "id": "c39dcfd0",
   "metadata": {},
   "outputs": [
    {
     "name": "stdout",
     "output_type": "stream",
     "text": [
      "Model: \"sequential_8\"\n",
      "_________________________________________________________________\n",
      " Layer (type)                Output Shape              Param #   \n",
      "=================================================================\n",
      " dense_23 (Dense)            (None, 100)               1200      \n",
      "                                                                 \n",
      " activation_36 (Activation)  (None, 100)               0         \n",
      "                                                                 \n",
      " dropout_19 (Dropout)        (None, 100)               0         \n",
      "                                                                 \n",
      " dense_24 (Dense)            (None, 200)               20200     \n",
      "                                                                 \n",
      " activation_37 (Activation)  (None, 200)               0         \n",
      "                                                                 \n",
      " dropout_20 (Dropout)        (None, 200)               0         \n",
      "                                                                 \n",
      " dense_25 (Dense)            (None, 100)               20100     \n",
      "                                                                 \n",
      " activation_38 (Activation)  (None, 100)               0         \n",
      "                                                                 \n",
      " dropout_21 (Dropout)        (None, 100)               0         \n",
      "                                                                 \n",
      " dense_26 (Dense)            (None, 3)                 303       \n",
      "                                                                 \n",
      " activation_39 (Activation)  (None, 3)                 0         \n",
      "                                                                 \n",
      "=================================================================\n",
      "Total params: 41,803\n",
      "Trainable params: 41,803\n",
      "Non-trainable params: 0\n",
      "_________________________________________________________________\n"
     ]
    },
    {
     "data": {
      "text/plain": [
       "(11,)"
      ]
     },
     "execution_count": 78,
     "metadata": {},
     "output_type": "execute_result"
    }
   ],
   "source": [
    "lcp_model.summary()\n",
    "X_train[0].shape"
   ]
  },
  {
   "cell_type": "code",
   "execution_count": 72,
   "id": "74301504",
   "metadata": {},
   "outputs": [],
   "source": [
    "# Compile the model\n",
    "lcp_model.compile(optimizer='adam', loss='categorical_crossentropy', metrics=['accuracy'])"
   ]
  },
  {
   "cell_type": "code",
   "execution_count": 73,
   "id": "56045280",
   "metadata": {
    "scrolled": true
   },
   "outputs": [
    {
     "name": "stdout",
     "output_type": "stream",
     "text": [
      "Epoch 1/30\n",
      "81/81 [==============================] - 2s 11ms/step - loss: 12392.9443 - accuracy: 0.3346 - val_loss: 39.8257 - val_accuracy: 0.3963\n",
      "Epoch 2/30\n",
      "81/81 [==============================] - 0s 6ms/step - loss: 521.9528 - accuracy: 0.3416 - val_loss: 64.4827 - val_accuracy: 0.3498\n",
      "Epoch 3/30\n",
      "81/81 [==============================] - 0s 6ms/step - loss: 5422.8589 - accuracy: 0.3435 - val_loss: 58.5855 - val_accuracy: 0.3498\n",
      "Epoch 4/30\n",
      "81/81 [==============================] - 1s 7ms/step - loss: 5215.2256 - accuracy: 0.3311 - val_loss: 55.2701 - val_accuracy: 0.3220\n",
      "Epoch 5/30\n",
      "81/81 [==============================] - 0s 5ms/step - loss: 1768.4152 - accuracy: 0.3280 - val_loss: 24.6971 - val_accuracy: 0.3498\n",
      "Epoch 6/30\n",
      "81/81 [==============================] - 1s 7ms/step - loss: 6055.4521 - accuracy: 0.3315 - val_loss: 37.9939 - val_accuracy: 0.3498\n",
      "Epoch 7/30\n",
      "81/81 [==============================] - 0s 5ms/step - loss: 8933.8018 - accuracy: 0.3338 - val_loss: 13.8060 - val_accuracy: 0.3498\n",
      "Epoch 8/30\n",
      "81/81 [==============================] - 1s 7ms/step - loss: 472.9227 - accuracy: 0.3261 - val_loss: 12.6219 - val_accuracy: 0.3452\n",
      "Epoch 9/30\n",
      "81/81 [==============================] - 0s 5ms/step - loss: 1647.2031 - accuracy: 0.3385 - val_loss: 34.6678 - val_accuracy: 0.3111\n",
      "Epoch 10/30\n",
      "81/81 [==============================] - 0s 5ms/step - loss: 828.5161 - accuracy: 0.3149 - val_loss: 37.5297 - val_accuracy: 0.3715\n",
      "Epoch 11/30\n",
      "81/81 [==============================] - 0s 5ms/step - loss: 2323.8469 - accuracy: 0.3172 - val_loss: 36.4933 - val_accuracy: 0.3560\n",
      "Epoch 12/30\n",
      "81/81 [==============================] - 0s 6ms/step - loss: 1542.9729 - accuracy: 0.3338 - val_loss: 56.7525 - val_accuracy: 0.2988\n",
      "Epoch 13/30\n",
      "81/81 [==============================] - 0s 5ms/step - loss: 11029.4180 - accuracy: 0.3478 - val_loss: 59.2585 - val_accuracy: 0.3529\n",
      "Epoch 14/30\n",
      "81/81 [==============================] - 0s 5ms/step - loss: 381.7489 - accuracy: 0.3331 - val_loss: 31.6090 - val_accuracy: 0.3746\n",
      "Epoch 15/30\n",
      "81/81 [==============================] - 0s 5ms/step - loss: 5269.4971 - accuracy: 0.3366 - val_loss: 33.5458 - val_accuracy: 0.3731\n",
      "Epoch 16/30\n",
      "81/81 [==============================] - 0s 5ms/step - loss: 880.0525 - accuracy: 0.3366 - val_loss: 13.5597 - val_accuracy: 0.3437\n",
      "Epoch 17/30\n",
      "81/81 [==============================] - 0s 5ms/step - loss: 2484.1587 - accuracy: 0.3602 - val_loss: 10.7341 - val_accuracy: 0.3653\n",
      "Epoch 18/30\n",
      "81/81 [==============================] - 0s 5ms/step - loss: 233.7178 - accuracy: 0.3292 - val_loss: 14.1600 - val_accuracy: 0.3638\n",
      "Epoch 19/30\n",
      "81/81 [==============================] - 1s 7ms/step - loss: 430.5632 - accuracy: 0.3435 - val_loss: 2.6365 - val_accuracy: 0.3467\n",
      "Epoch 20/30\n",
      "81/81 [==============================] - 0s 6ms/step - loss: 203.9985 - accuracy: 0.3338 - val_loss: 3.3428 - val_accuracy: 0.3591\n",
      "Epoch 21/30\n",
      "81/81 [==============================] - 1s 6ms/step - loss: 1338.3336 - accuracy: 0.3176 - val_loss: 8.1506 - val_accuracy: 0.3111\n",
      "Epoch 22/30\n",
      "81/81 [==============================] - 1s 7ms/step - loss: 2880.2595 - accuracy: 0.3393 - val_loss: 16.9974 - val_accuracy: 0.3173\n",
      "Epoch 23/30\n",
      "81/81 [==============================] - 1s 8ms/step - loss: 208.8655 - accuracy: 0.3362 - val_loss: 10.6251 - val_accuracy: 0.3111\n",
      "Epoch 24/30\n",
      "81/81 [==============================] - 1s 6ms/step - loss: 374.7624 - accuracy: 0.3261 - val_loss: 11.7320 - val_accuracy: 0.2926\n",
      "Epoch 25/30\n",
      "81/81 [==============================] - 0s 5ms/step - loss: 4663.1621 - accuracy: 0.3234 - val_loss: 5.4184 - val_accuracy: 0.2941\n",
      "Epoch 26/30\n",
      "81/81 [==============================] - 0s 5ms/step - loss: 274.3978 - accuracy: 0.3261 - val_loss: 5.5693 - val_accuracy: 0.2926\n",
      "Epoch 27/30\n",
      "81/81 [==============================] - 0s 6ms/step - loss: 262.7788 - accuracy: 0.3377 - val_loss: 10.7944 - val_accuracy: 0.3111\n",
      "Epoch 28/30\n",
      "81/81 [==============================] - 0s 5ms/step - loss: 1927.2870 - accuracy: 0.3207 - val_loss: 8.6629 - val_accuracy: 0.3158\n",
      "Epoch 29/30\n",
      "81/81 [==============================] - 0s 5ms/step - loss: 153.6122 - accuracy: 0.3261 - val_loss: 6.9716 - val_accuracy: 0.3189\n",
      "Epoch 30/30\n",
      "81/81 [==============================] - 1s 6ms/step - loss: 625.2225 - accuracy: 0.3195 - val_loss: 6.0213 - val_accuracy: 0.3220\n"
     ]
    }
   ],
   "source": [
    "# Train the model\n",
    "lcp_his = lcp_model.fit(X_train, y_train, epochs=30, batch_size=32, validation_data=(X_test, y_test))"
   ]
  },
  {
   "cell_type": "code",
   "execution_count": 74,
   "id": "9ff7e4d3",
   "metadata": {},
   "outputs": [],
   "source": [
    "### Evaluating the model on the training and testing set"
   ]
  },
  {
   "cell_type": "code",
   "execution_count": 75,
   "id": "4af6ac7b",
   "metadata": {},
   "outputs": [
    {
     "name": "stdout",
     "output_type": "stream",
     "text": [
      "Training Accuracy: 33.54%\n",
      "Testing Accuracy: 32.20%\n"
     ]
    }
   ],
   "source": [
    "lcpscore = lcp_model.evaluate(X_train, y_train, verbose=0)\n",
    "print(\"Training Accuracy: {0:.2%}\".format(lcpscore[1]))\n",
    "\n",
    "lcpscore = lcp_model.evaluate(X_test, y_test, verbose=0)\n",
    "print(\"Testing Accuracy: {0:.2%}\".format(lcpscore[1]))"
   ]
  },
  {
   "cell_type": "code",
   "execution_count": 76,
   "id": "7c30d58f",
   "metadata": {},
   "outputs": [
    {
     "data": {
      "image/png": "[encoded data removed]",
      "text/plain": [
       "<Figure size 640x480 with 1 Axes>"
      ]
     },
     "metadata": {},
     "output_type": "display_data"
    }
   ],
   "source": [
    "plt.plot(lcp_his.history['accuracy'])\n",
    "plt.plot(lcp_his.history['val_accuracy'])\n",
    "plt.title('LCP CNN Model Accuracy')\n",
    "plt.xlabel('Epoch')\n",
    "plt.ylabel('Accuracy')\n",
    "plt.legend(['Train', 'Test'], loc='upper left')\n",
    "plt.show()"
   ]
  },
  {
   "cell_type": "code",
   "execution_count": 77,
   "id": "f7165a38",
   "metadata": {},
   "outputs": [
    {
     "data": {
      "image/png": "[encoded data removed]",
      "text/plain": [
       "<Figure size 640x480 with 1 Axes>"
      ]
     },
     "metadata": {},
     "output_type": "display_data"
    }
   ],
   "source": [
    "plt.plot(lcp_his.history['loss'])\n",
    "plt.plot(lcp_his.history['val_loss'])\n",
    "plt.title('LCP CNN Model Loss')\n",
    "plt.xlabel('Epoch')\n",
    "plt.ylabel('Loss')\n",
    "plt.legend(['Train', 'Test'], loc='upper left')\n",
    "plt.show()"
   ]
  },
  {
   "cell_type": "markdown",
   "id": "d7478326",
   "metadata": {},
   "source": [
    "## Conclusion"
   ]
  },
  {
   "cell_type": "markdown",
   "id": "818af056",
   "metadata": {},
   "source": [
    "The reported accuracies for your Convolutional Neural Network (CNN) model using different features indicate variations in performance based on the type of feature employed. Let's analyze the results for each feature:\n",
    "\n",
    "1. **MFCC Feature:**\n",
    "   - **Training Accuracy:** 99.83%\n",
    "   - **Testing Accuracy:** 73.23%\n",
    "   \n",
    "   The extremely high training accuracy suggests that the model has almost memorized the training data. However, the testing accuracy is considerably lower, indicating that there may be overfitting to the training set. Despite this, the testing accuracy is relatively high, suggesting that the MFCC features capture important patterns in the data.\n",
    "\n",
    "2. **PCP Feature:**\n",
    "   - **Training Accuracy:** 56.35%\n",
    "   - **Testing Accuracy:** 57.12%\n",
    "   \n",
    "   Both training and testing accuracies for PCP features are moderate and relatively close. While the model generalizes better than LCP (Linear Predictive Coding) in this case, the overall performance is not as high as with MFCC features. The accuracy suggests that PCP features are somewhat effective but may not capture all the relevant information.\n",
    "\n",
    "3. **LCP Feature:**\n",
    "   - **Training Accuracy:** 33.54%\n",
    "   - **Testing Accuracy:** 32.20%\n",
    "   \n",
    "   Both training and testing accuracies for LCP features are low. The model's inability to perform well on both training and testing sets indicates that LCP features might not effectively represent the critical information in the data for the task at hand.\n",
    "\n",
    "**Conclusion:**\n",
    "- The CNN model performs exceptionally well on the training set with MFCC features, indicating a strong ability to learn intricate patterns from the data. However, the drop in testing accuracy suggests a potential overfitting issue.\n",
    "- PCP features exhibit moderate accuracy, suggesting that they capture some relevant information but are not as effective as MFCC features.\n",
    "- LCP features result in the lowest accuracy, indicating that they might not be suitable for representing the important characteristics of the data in this context.\n",
    "\n",
    "**Possible Reasons for Lower Accuracy with Other Features:**\n",
    "1. **Overfitting:** The extremely high training accuracy for MFCC features suggests overfitting, where the model memorizes the training set and struggles to generalize to new, unseen data. Regularization techniques or reducing model complexity could be explored to mitigate overfitting.\n",
    "2. **Feature Relevance:** Similar to the ANN case, the choice of features is crucial. MFCC features may be more informative for this specific task than PCP or LCP features.\n",
    "3. **Model Architecture:** The CNN architecture may not be well-suited to extracting features from PCP and LCP representations, which could impact the overall performance.\n",
    "4. **Data Characteristics:** The distribution and nature of the data may favor certain types of features, and the less accurate features may not align well with the underlying patterns in the dataset.\n",
    "\n",
    "To improve the model's performance with PCP and LCP features, you might consider experimenting with different CNN architectures, regularization techniques, or alternative feature representations. Additionally, adjusting hyperparameters and conducting more extensive hyperparameter tuning may help improve the generalization performance of the model."
   ]
  },
  {
   "cell_type": "code",
   "execution_count": null,
   "id": "b9c98979",
   "metadata": {},
   "outputs": [],
   "source": []
  }
 ],
 "metadata": {
  "kernelspec": {
   "display_name": "Python 3 (ipykernel)",
   "language": "python",
   "name": "python3"
  },
  "language_info": {
   "codemirror_mode": {
    "name": "ipython",
    "version": 3
   },
   "file_extension": ".py",
   "mimetype": "text/x-python",
   "name": "python",
   "nbconvert_exporter": "python",
   "pygments_lexer": "ipython3",
   "version": "3.11.6"
  }
 },
 "nbformat": 4,
 "nbformat_minor": 5
}
